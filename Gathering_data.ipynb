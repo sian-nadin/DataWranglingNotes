{
 "cells": [
  {
   "cell_type": "markdown",
   "metadata": {},
   "source": [
    "# Data Wrangling: Gathering data\n",
    "Notes on methods for gathering data"
   ]
  },
  {
   "cell_type": "code",
   "execution_count": 1,
   "metadata": {},
   "outputs": [],
   "source": [
    "import pandas as pd"
   ]
  },
  {
   "cell_type": "markdown",
   "metadata": {},
   "source": [
    "We are going to look at **Rotten Tomatoes top 100 movies**"
   ]
  },
  {
   "cell_type": "code",
   "execution_count": 2,
   "metadata": {},
   "outputs": [],
   "source": [
    "# Import the Rotten Tomatoes bestofrt TSV file into a DataFrame\n",
    "df = pd.read_csv('bestofrt.tsv', sep='\\t')"
   ]
  },
  {
   "cell_type": "code",
   "execution_count": 3,
   "metadata": {},
   "outputs": [
    {
     "data": {
      "text/html": [
       "<div>\n",
       "<table border=\"1\" class=\"dataframe\">\n",
       "  <thead>\n",
       "    <tr style=\"text-align: right;\">\n",
       "      <th></th>\n",
       "      <th>ranking</th>\n",
       "      <th>critic_score</th>\n",
       "      <th>title</th>\n",
       "      <th>number_of_critic_ratings</th>\n",
       "    </tr>\n",
       "  </thead>\n",
       "  <tbody>\n",
       "    <tr>\n",
       "      <th>0</th>\n",
       "      <td>1</td>\n",
       "      <td>99</td>\n",
       "      <td>The Wizard of Oz (1939)</td>\n",
       "      <td>110</td>\n",
       "    </tr>\n",
       "    <tr>\n",
       "      <th>1</th>\n",
       "      <td>2</td>\n",
       "      <td>100</td>\n",
       "      <td>Citizen Kane (1941)</td>\n",
       "      <td>75</td>\n",
       "    </tr>\n",
       "    <tr>\n",
       "      <th>2</th>\n",
       "      <td>3</td>\n",
       "      <td>100</td>\n",
       "      <td>The Third Man (1949)</td>\n",
       "      <td>77</td>\n",
       "    </tr>\n",
       "    <tr>\n",
       "      <th>3</th>\n",
       "      <td>4</td>\n",
       "      <td>99</td>\n",
       "      <td>Get Out (2017)</td>\n",
       "      <td>282</td>\n",
       "    </tr>\n",
       "    <tr>\n",
       "      <th>4</th>\n",
       "      <td>5</td>\n",
       "      <td>97</td>\n",
       "      <td>Mad Max: Fury Road (2015)</td>\n",
       "      <td>370</td>\n",
       "    </tr>\n",
       "  </tbody>\n",
       "</table>\n",
       "</div>"
      ],
      "text/plain": [
       "   ranking  critic_score                      title  number_of_critic_ratings\n",
       "0        1            99    The Wizard of Oz (1939)                       110\n",
       "1        2           100        Citizen Kane (1941)                        75\n",
       "2        3           100       The Third Man (1949)                        77\n",
       "3        4            99             Get Out (2017)                       282\n",
       "4        5            97  Mad Max: Fury Road (2015)                       370"
      ]
     },
     "execution_count": 3,
     "metadata": {},
     "output_type": "execute_result"
    }
   ],
   "source": [
    "# Check to see if the file was imported correctly\n",
    "df.head()"
   ]
  },
  {
   "cell_type": "markdown",
   "metadata": {},
   "source": [
    "Looking at the movies on the list we can see that the critics scores and the audience scores don't line up. Some films, like ET, have quite a big difference in scores between critics and the audience. \n",
    "\n",
    "We can get the data on critics and audience scores using web scraping. We will use **Beautiful soup** to parse the HTML file on the top 100 movies."
   ]
  },
  {
   "cell_type": "markdown",
   "metadata": {},
   "source": [
    "## Accessing HTML file"
   ]
  },
  {
   "cell_type": "markdown",
   "metadata": {},
   "source": [
    "Code for programmatically downloading HTML file to your computer:\n",
    "\n",
    "The two main ways to work with HTML files are:\n",
    "\n",
    "1. Saving the HTML file to your computer (using the Requests library for example) library and reading that file into a BeautifulSoup constructor\n",
    "2. Reading the HTML response content directly into a BeautifulSoup constructor (again using the Requests library for example)"
   ]
  },
  {
   "cell_type": "code",
   "execution_count": 4,
   "metadata": {},
   "outputs": [],
   "source": [
    "# First method of working with HTML\n",
    "#This is just the code to download 1 file. We have 100 HTML files to access so we would have to put the code in a loop \n",
    "\n",
    "import requests\n",
    "url = \"https://www.rottentomatoes.com/m/t_the_extraterrestrial\"\n",
    "response = requests.get(url)\n",
    "\n",
    "# #Save HTML to file\n",
    "# with open(\"et_the_extraterrestrial.html, mode='wb) as file:\n",
    "#      file.write(response.content)"
   ]
  },
  {
   "cell_type": "code",
   "execution_count": 5,
   "metadata": {},
   "outputs": [],
   "source": [
    "# Second method:\n",
    "# Work with HTML in memory\n",
    "from bs4 import BeautifulSoup\n",
    "soup = BeautifulSoup(response.content, \"html.parser\")"
   ]
  },
  {
   "cell_type": "markdown",
   "metadata": {},
   "source": [
    "## Working with Beautiful soup"
   ]
  },
  {
   "cell_type": "markdown",
   "metadata": {},
   "source": [
    "The first thing you need to do is **make the soup**. That means passing the path to yout HTML file into a file handle, then passing that file handle into the Beautiful Soup constructor like so:"
   ]
  },
  {
   "cell_type": "code",
   "execution_count": 6,
   "metadata": {},
   "outputs": [],
   "source": [
    "with open('rt_html/et_the_extraterrestrial.html') as file:\n",
    "    soup = BeautifulSoup(file, \"html.parser\")"
   ]
  },
  {
   "cell_type": "markdown",
   "metadata": {},
   "source": [
    "We can use  methods in the Beautiful soup library to easily find and extract data from this HTML. One of the most popular methods is the **find** method. Let's find the title of our movie using this method:"
   ]
  },
  {
   "cell_type": "code",
   "execution_count": 7,
   "metadata": {},
   "outputs": [
    {
     "data": {
      "text/plain": [
       "<title>E.T. The Extra-Terrestrial (1982) - Rotten Tomatoes</title>"
      ]
     },
     "execution_count": 7,
     "metadata": {},
     "output_type": "execute_result"
    }
   ],
   "source": [
    "#We'll find that theres only one \" <title> tag in this whle HTML document and inside this tag is the title of the movie. \n",
    "soup.find('title')"
   ]
  },
  {
   "cell_type": "markdown",
   "metadata": {},
   "source": [
    "This is the title of the webpage and not the movie title only. To get just the movie title we'll have to do some string slicing. To access the contents of these tags we can use **.contents** which returns a list of the tags children. "
   ]
  },
  {
   "cell_type": "code",
   "execution_count": 8,
   "metadata": {},
   "outputs": [
    {
     "data": {
      "text/plain": [
       "['E.T. The Extra-Terrestrial\\xa0(1982) - Rotten Tomatoes']"
      ]
     },
     "execution_count": 8,
     "metadata": {},
     "output_type": "execute_result"
    }
   ],
   "source": [
    "soup.find('title').contents"
   ]
  },
  {
   "cell_type": "markdown",
   "metadata": {},
   "source": [
    "Because there's only one thing within this tag the list is one item long and we can therefore access it using the index 0. We can use this with string slicing to grab everything from the first charchter in our string to the 18th last character(The length of the string ' - Rotten Tomatoes'). "
   ]
  },
  {
   "cell_type": "code",
   "execution_count": 9,
   "metadata": {},
   "outputs": [
    {
     "data": {
      "text/plain": [
       "'E.T. The Extra-Terrestrial\\xa0(1982)'"
      ]
     },
     "execution_count": 9,
     "metadata": {},
     "output_type": "execute_result"
    }
   ],
   "source": [
    "soup.find('title').contents[0][:-len(' - Rotten Tomatoes')]"
   ]
  },
  {
   "cell_type": "markdown",
   "metadata": {},
   "source": [
    "The Jupyter Notebook below contains template code that:\n",
    "\n",
    "* Creates an empty list, df_list, to which dictionaries will be appended. This list of dictionaries will eventually be converted to a pandas DataFrame (this is the most efficient way of building a DataFrame row by row).\n",
    "* Loops through each movie's Rotten Tomatoes HTML file in the rt_html folder.\n",
    "* Opens each HTML file and passes it into a file handle called file.\n",
    "* Creates a DataFrame called df by converting df_list using the pd.DataFrame constructor.\n",
    "\n",
    "Your task is to extract the title, audience score, and number of audience ratings in each HTML file so each trio can be appended as a dictionary to df_list."
   ]
  },
  {
   "cell_type": "code",
   "execution_count": 10,
   "metadata": {},
   "outputs": [],
   "source": [
    "import os\n",
    "\n",
    "# List of dictionaries to build file by file and later convert to a DataFrame\n",
    "df_list = []\n",
    "folder = 'rt_html'\n",
    "for movie_html in os.listdir(folder):\n",
    "    with open(os.path.join(folder, movie_html)) as file:\n",
    "        # Make the soup\n",
    "        soup = BeautifulSoup(file, \"html.parser\")\n",
    "        \n",
    "        #Find title. We don't wnat the '- Rotten Tomatoes' part of the title so only take the part before that\n",
    "        title = soup.find('title').contents[0][:-len(' - Rotten tomatoes')]\n",
    "        \n",
    "        #First find the div with class name audience-score meter then find the only span element within and grab the \n",
    "        # contents without the % sign\n",
    "        audience_score = soup.find('div', class_='audience-score meter').find('span').contents[0][:-1]\n",
    "        \n",
    "        #Find the div with number of ratings\n",
    "        num_audience_ratings = soup.find('div', class_ = 'audience-info hidden-xs superPageFontColor')\n",
    "        \n",
    "        #Find the second span tag within the div which contains number of reviews just want number of reviews and \n",
    "        # strip out whitespace. Will need to convert string to int so have to replace comma with empty\n",
    "        num_audience_ratings = num_audience_ratings.find_all('div')[1].contents[2].strip().replace(',', '')"
   ]
  },
  {
   "cell_type": "markdown",
   "metadata": {},
   "source": [
    "## Roger Ebert review\n",
    "We are going to look at Rogert Eberts reviews for each of the movies listed in Rotten Tomatoes top 100 movies. The files for these reviews have been stored on a Udacity page. We will download them programatically using Pyhtons **Request** libraray.\n",
    "\n",
    "Python requests library has a method called **.get** which will send the request for us, return the contents of the file we requested, which we can then save to a file. \n",
    "\n",
    "Here's how it's done:"
   ]
  },
  {
   "cell_type": "code",
   "execution_count": 11,
   "metadata": {},
   "outputs": [
    {
     "data": {
      "text/plain": [
       "<Response [200]>"
      ]
     },
     "execution_count": 11,
     "metadata": {},
     "output_type": "execute_result"
    }
   ],
   "source": [
    "import requests\n",
    "import os\n",
    "\n",
    "folder_name = 'ebert_review'\n",
    "if not os.path.exists(folder_name): #create folder if it doesn't exist already\n",
    "    os.makedirs(folder_name)\n",
    "    \n",
    "# Request code:\n",
    "url = 'https://d17h27t6h515a5.cloudfront.net/topher/2017/September/59ad9904_11-e.t.-the-extra-terrestrial/11-e.t.-the-extra-terrestrial.txt'\n",
    "response=requests.get(url)\n",
    "# We haven't actually saved the response to anything yet but let's take a look at what the response looks like\n",
    "response"
   ]
  },
  {
   "cell_type": "markdown",
   "metadata": {},
   "source": [
    "Response code 200 means everything went well with the request.\n",
    "\n",
    "All the text in our text file is in our computers working memory right now within this response variable. It's stored in the body of the response which we can access using **.content** "
   ]
  },
  {
   "cell_type": "code",
   "execution_count": 12,
   "metadata": {},
   "outputs": [
    {
     "data": {
      "text/plain": [
       "b'E.T. The Extra-Terrestrial (1982)\\nhttp://www.rogerebert.com/reviews/great-movie-et-the-extra-terrestrial-1982\\nDear Raven and Emil:\\n\\nSunday we sat on the big green couch and watched \"E.T. The Extra-Terrestrial\" together with your mommy and daddy. It was the first time either of you had seen it, although you knew a little of what to expect because we took the \"E.T.\" ride together at the Universal tour. I had seen the movie lots of times since it came out in 1982, so I kept one eye on the screen and the other on the two of you. I wanted to see how a boy on his fourth birthday, and a girl who had just turned 7 a week ago, would respond to the movie.\\n\\nWell, it \"worked\" for both of you, as we say in Grandpa Roger\\'s business.\\n\\nRaven, you never took your eyes off the screen--not even when it looked like E.T. was dying and you had to scoot over next to me because you were afraid.\\n\\nEmil, you had to go sit on your dad\\'s knee a couple of times, but you never stopped watching, either. No trips to the bathroom or looking for lost toys: You were watching that movie with all of your attention.\\n\\nThe early scenes show a spaceship landing, and they suggest that a little creature has been left behind. The ship escapes quickly after men in pickup trucks come looking for it. Their headlights and flashlights make visible beams through the foggy night, and you remembered the same effect during the ride at Universal. And the keys hanging from their belts jangle on the soundtrack. It\\'s how a lost little extraterrestrial would experience it.\\n\\nThen there are shots of a suburban house, sort of like the one you live in, with a wide driveway and a big backyard. A little boy named Elliott (Henry Thomas) is in the yard when he thinks he sees or hears something. We already know that it\\'s E.T.\\n\\nThe camera watches Elliott moving around. And Raven, that\\'s when you asked me, \"Is this E.T.\\'s vision?\" And I said, yes, we were seeing everything now from E.T.\\'s point of view. And I thought you\\'d asked a very good question, because most kids your age wouldn\\'t have noticed that the camera had a point of view--that we were seeing everything from low to the ground, as a short little creature would view it, and experiencing what he (or she) would see after wandering out of the woods on a strange planet.\\n\\nWhile we were watching, I realized how right you were to ask that question. The whole movie is based on what moviemakers call \"point of view.\" Almost every single important shot is seen either as E.T. would see it, or as Elliott would see it. And things are understood as they would understand them. There aren\\'t any crucial moments where the camera pulls back and seems to be a grownup. We\\'re usually looking at things through a child\\'s eye--or an alien\\'s.\\n\\nWhen Elliott and E.T. see each other for the first time, they both jump back in fright and surprise, and let out yelps. We see each of them from the other\\'s point of view. When the camera stands back to show a whole scene, it avoids showing it through adult eyes. There\\'s a moment, for example, when Elliott\\'s mom (Dee Wallace Stone) is moving around doing some housework, and never realizes that E.T. is scurrying around the room just out of her line of sight. The camera stays back away from her. We don\\'t see her looking this way and that, because it\\'s not about which way she\\'s looking.\\n\\nLater, we do get one great shot that shows what she sees: She\\'s looking in Elliott\\'s closet at all of his stuffed toys lined up, and doesn\\'t realize one of the \"toys\" is actually E.T. We all laughed at that shot, but it was an exception; basically we looked out through little eyes, not big ones. (For example, in the scene where they take E.T. trick-or-treating with a sheet over his head, and we can see out like he can through the holes in the sheet.)\\n\\nLater, in the scenes that really worried you, Raven, the men in the trucks come back. They know E.T. is in Elliott\\'s house, and they\\'re scientists who want to examine the alien creature. But there isn\\'t a single moment when they use grownup talk and explain what they\\'re doing. We only hear small pieces of their dialogue, as Elliott might overhear it.\\n\\nBy then we know Elliott and E.T. are linked mentally, so Elliott can sense that E.T. is dying. Elliott cries out to the adults to leave E.T. alone, but the adults don\\'t take him seriously. A kid knows what that feels like. And then, when Elliott gets his big brother to drive the getaway car, and the brother says, \"I\\'ve never driven in forward before!\\'\\' you could identify with that. Kids are always watching their parents drive, and never getting to do it themselves.\\n\\nWe loved the scene where the bicycles fly. We suspected it was coming, because E.T. had taken Elliott on a private bike flight earlier, so we knew he could do it. I was thinking that the chase scene before the bikes fly was a little too long, as if Steven Spielberg (who made the film) was trying to build up too much unnecessary suspense. But when those bikes took off, what a terrific moment! I remember when I saw the movie at Cannes; even the audience there, people who had seen thousands of movies, let out a whoop at that moment.\\n\\nThen there\\'s the scene at the end. E.T. has phoned home, and the spaceship has come to get him. He\\'s in the woods with Elliott. The gangplank on the ship comes down, and in the doorway we can see another creature like E.T. standing with the light behind.\\n\\nEmil, you said, \"That\\'s E.T.\\'s mommy!\\'\\' And then you paused a second, and said, \"Now how did I know that?\\'\\'\\n\\nWe all laughed, because you made it sound funny, as you often do--you\\'re a natural comedian. But remembering it now, I asked myself--how did Emil know that? It could have been E.T.\\'s daddy, or sister, or the pilot of the ship. But I agree with you it probably was his mommy, because she sounded just like a mommy as she made the noise of calling E.T.\\n\\nAnd then I thought, the fact that you knew that was a sign of how well Steven Spielberg made his movie. At 4, you are a little young to understand \"point of view,\\'\\' but you are old enough to react to one. For the whole movie, you\\'d been seeing almost everything through the eyes of E.T. or Elliott. By the last moments, you were identifying with E.T. And who did he miss the most? Who did he want to see standing in the spaceship door for him? His mommy.\\n\\nOf course, maybe Steven Spielberg didn\\'t see it the same way, and thought E.T. only seemed like a kid and was really 500 years old. That doesn\\'t matter, because Spielberg left it open for all of us. That\\'s the sign of a great filmmaker: He only explains what he has to explain, and with a great movie the longer it runs, the less has to be explained. Some other filmmaker who wasn\\'t so good might have had subtitles saying, \"E.T.? Are you out there? It\\'s Mommy!\\'\\' But that would have been dumb.\\n\\nAnd it would have deprived you, Emil, of the joy of knowing it was E.T.\\'s mommy, and the delight of being able to tell the rest of us.\\n\\nWell, that\\'s it for this letter. We had a great weekend, kids. I was proud of how brave you both were during your first pony rides. And proud of what good movie critics you are, too.\\n\\nLove, Grandpa Roger'"
      ]
     },
     "execution_count": 12,
     "metadata": {},
     "output_type": "execute_result"
    }
   ],
   "source": [
    "response.content"
   ]
  },
  {
   "cell_type": "markdown",
   "metadata": {},
   "source": [
    "* Response is in in Bytes format. \n",
    "* Using this and some basic file IO we're going to save this file to our computer. \n",
    "* We'll open a file called '11-e.t.-the-extra-terrestrial.txt', i.e. everything after the last / in the url. In order to get everything after the last / we'll use Python's split function. \n",
    "* We need to open the contents of this file which we'll then write the contents of the response variable to. We have to open this is wb mode (write binary)."
   ]
  },
  {
   "cell_type": "code",
   "execution_count": 13,
   "metadata": {},
   "outputs": [],
   "source": [
    "with open(os.path.join(folder_name,\n",
    "                      url.split('/')[-1]), mode='wb') as file:\n",
    "    file.write(response.content)"
   ]
  },
  {
   "cell_type": "markdown",
   "metadata": {},
   "source": [
    "That's how you download 1 file programatically. Let's check the contents of our folder ebert_reviews to make sure it worked:"
   ]
  },
  {
   "cell_type": "code",
   "execution_count": 14,
   "metadata": {},
   "outputs": [
    {
     "data": {
      "text/plain": [
       "['26-dunkirk-2017-film.txt',\n",
       " '57-army-of-shadows.txt',\n",
       " '48-alien-film.txt',\n",
       " '43-bride-of-frankenstein.txt',\n",
       " '54-the-400-blows.txt',\n",
       " '63-manchester-by-the-sea-film.txt',\n",
       " '5-mad-max-fury-road.txt',\n",
       " '46-wonder-woman-2017-film.txt',\n",
       " '49-bicycle-thieves.txt',\n",
       " '19-laura-1944-film.txt',\n",
       " '98-toy-story.txt',\n",
       " '90-on-the-waterfront.txt',\n",
       " '39-toy-story-3.txt',\n",
       " '82-tokyo-story.txt',\n",
       " '23-la-grande-illusion.txt',\n",
       " '92-the-last-picture-show.txt',\n",
       " '36-rear-window.txt',\n",
       " '78-gone-with-the-wind-film.txt',\n",
       " '60-a-streetcar-named-desire-1951-film.txt',\n",
       " '84-pinocchio-1940-film.txt',\n",
       " '32-king-kong-1933-film.txt',\n",
       " '58-arrival-film.txt',\n",
       " '64-dr.-strangelove.txt',\n",
       " '40-argo-2012-film.txt',\n",
       " '22-a-hard-day27s-night-film.txt',\n",
       " '37-selma-film.txt',\n",
       " '83-hell-or-high-water-film.txt',\n",
       " '30-gravity-2013-film.txt',\n",
       " '55-logan-film.txt',\n",
       " '10-metropolis-1927-film.txt',\n",
       " '42-the-big-sick.txt',\n",
       " '72-rosemary27s-baby-film.txt',\n",
       " '53-12-angry-men-1957-film.txt',\n",
       " '4-get-out-film.txt',\n",
       " '11-e.t.-the-extra-terrestrial.txt',\n",
       " '44-zootopia.txt',\n",
       " '27-the-maltese-falcon-1941-film.txt',\n",
       " '52-up-2009-film.txt',\n",
       " '1-the-wizard-of-oz-1939-film.txt',\n",
       " '89-apocalypse-now.txt',\n",
       " '9-the-godfather.txt',\n",
       " '75-the-wrestler-2008-film.txt',\n",
       " '100-battleship-potemkin.txt',\n",
       " '94-the-grapes-of-wrath-film.txt',\n",
       " '12-modern-times-film.txt',\n",
       " '77-l.a.-confidential-film.txt',\n",
       " '17-moonlight-2016-film.txt',\n",
       " '35-rashomon.txt',\n",
       " '80-skyfall.txt',\n",
       " '16-casablanca-film.txt',\n",
       " '3-the-third-man.txt',\n",
       " '34-the-adventures-of-robin-hood.txt',\n",
       " '45-m-1931-film.txt',\n",
       " '69-the-babadook.txt',\n",
       " '21-snow-white-and-the-seven-dwarfs-1937-film.txt',\n",
       " '62-star-wars-the-force-awakens.txt',\n",
       " '87-star-trek-film.txt',\n",
       " '97-jaws-film.txt',\n",
       " '29-12-years-a-slave-film.txt',\n",
       " '85-the-jungle-book-2016-film.txt',\n",
       " '73-finding-nemo.txt',\n",
       " '8-inside-out-2015-film.txt',\n",
       " '93-harry-potter-and-the-deathly-hallows-part-2.txt',\n",
       " '51-the-treasure-of-the-sierra-madre-film.txt',\n",
       " '31-sunset-boulevard-film.txt',\n",
       " '99-the-godfather-part-ii.txt',\n",
       " '7-all-about-eve.txt',\n",
       " '61-the-night-of-the-hunter-film.txt',\n",
       " '66-vertigo-film.txt',\n",
       " '38-taxi-driver.txt',\n",
       " '91-the-wages-of-fear.txt',\n",
       " '33-spotlight-film.txt',\n",
       " '25-the-battle-of-algiers.txt',\n",
       " '86-la-la-land-film.txt',\n",
       " '2-citizen-kane.txt',\n",
       " '50-seven-samurai.txt',\n",
       " '74-brooklyn-film.txt',\n",
       " '18-psycho-1960-film.txt',\n",
       " '15-boyhood-film.txt',\n",
       " '79-the-good-the-bad-and-the-ugly.txt',\n",
       " '67-the-dark-knight-film.txt',\n",
       " '68-touch-of-evil.txt',\n",
       " '59-baby-driver.txt',\n",
       " '96-man-on-wire.txt',\n",
       " '41-toy-story-2.txt',\n",
       " '20-nosferatu.txt',\n",
       " '14-singin-in-the-rain.txt',\n",
       " '6-the-cabinet-of-dr.-caligari.txt']"
      ]
     },
     "execution_count": 14,
     "metadata": {},
     "output_type": "execute_result"
    }
   ],
   "source": [
    "os.listdir(folder_name)"
   ]
  },
  {
   "cell_type": "markdown",
   "metadata": {},
   "source": [
    "Since we have 100 files to download we'll use a for loop in conjunction with the provided ebert_review_urls list."
   ]
  },
  {
   "cell_type": "code",
   "execution_count": 15,
   "metadata": {},
   "outputs": [],
   "source": [
    "ebert_review_urls = ['https://d17h27t6h515a5.cloudfront.net/topher/2017/September/59ad9900_1-the-wizard-of-oz-1939-film/1-the-wizard-of-oz-1939-film.txt',\n",
    "                     'https://d17h27t6h515a5.cloudfront.net/topher/2017/September/59ad9901_2-citizen-kane/2-citizen-kane.txt',\n",
    "                     'https://d17h27t6h515a5.cloudfront.net/topher/2017/September/59ad9901_3-the-third-man/3-the-third-man.txt',\n",
    "                     'https://d17h27t6h515a5.cloudfront.net/topher/2017/September/59ad9902_4-get-out-film/4-get-out-film.txt',\n",
    "                     'https://d17h27t6h515a5.cloudfront.net/topher/2017/September/59ad9902_5-mad-max-fury-road/5-mad-max-fury-road.txt',\n",
    "                     'https://d17h27t6h515a5.cloudfront.net/topher/2017/September/59ad9902_6-the-cabinet-of-dr.-caligari/6-the-cabinet-of-dr.-caligari.txt',\n",
    "                     'https://d17h27t6h515a5.cloudfront.net/topher/2017/September/59ad9903_7-all-about-eve/7-all-about-eve.txt',\n",
    "                     'https://d17h27t6h515a5.cloudfront.net/topher/2017/September/59ad9903_8-inside-out-2015-film/8-inside-out-2015-film.txt',\n",
    "                     'https://d17h27t6h515a5.cloudfront.net/topher/2017/September/59ad9903_9-the-godfather/9-the-godfather.txt',\n",
    "                     'https://d17h27t6h515a5.cloudfront.net/topher/2017/September/59ad9904_10-metropolis-1927-film/10-metropolis-1927-film.txt',\n",
    "                     'https://d17h27t6h515a5.cloudfront.net/topher/2017/September/59ad9904_11-e.t.-the-extra-terrestrial/11-e.t.-the-extra-terrestrial.txt',\n",
    "                     'https://d17h27t6h515a5.cloudfront.net/topher/2017/September/59ad9904_12-modern-times-film/12-modern-times-film.txt',\n",
    "                     'https://d17h27t6h515a5.cloudfront.net/topher/2017/September/59ad9904_14-singin-in-the-rain/14-singin-in-the-rain.txt',\n",
    "                     'https://d17h27t6h515a5.cloudfront.net/topher/2017/September/59ad9905_15-boyhood-film/15-boyhood-film.txt',\n",
    "                     'https://d17h27t6h515a5.cloudfront.net/topher/2017/September/59ad9905_16-casablanca-film/16-casablanca-film.txt',\n",
    "                     'https://d17h27t6h515a5.cloudfront.net/topher/2017/September/59ad9905_17-moonlight-2016-film/17-moonlight-2016-film.txt',\n",
    "                     'https://d17h27t6h515a5.cloudfront.net/topher/2017/September/59ad9906_18-psycho-1960-film/18-psycho-1960-film.txt',\n",
    "                     'https://d17h27t6h515a5.cloudfront.net/topher/2017/September/59ad9906_19-laura-1944-film/19-laura-1944-film.txt',\n",
    "                     'https://d17h27t6h515a5.cloudfront.net/topher/2017/September/59ad9906_20-nosferatu/20-nosferatu.txt',\n",
    "                     'https://d17h27t6h515a5.cloudfront.net/topher/2017/September/59ad9907_21-snow-white-and-the-seven-dwarfs-1937-film/21-snow-white-and-the-seven-dwarfs-1937-film.txt',\n",
    "                     'https://d17h27t6h515a5.cloudfront.net/topher/2017/September/59ad9907_22-a-hard-day27s-night-film/22-a-hard-day27s-night-film.txt',\n",
    "                     'https://d17h27t6h515a5.cloudfront.net/topher/2017/September/59ad9907_23-la-grande-illusion/23-la-grande-illusion.txt',\n",
    "                     'https://d17h27t6h515a5.cloudfront.net/topher/2017/September/59ad9908_25-the-battle-of-algiers/25-the-battle-of-algiers.txt',\n",
    "                     'https://d17h27t6h515a5.cloudfront.net/topher/2017/September/59ad9908_26-dunkirk-2017-film/26-dunkirk-2017-film.txt',\n",
    "                     'https://d17h27t6h515a5.cloudfront.net/topher/2017/September/59ad9908_27-the-maltese-falcon-1941-film/27-the-maltese-falcon-1941-film.txt',\n",
    "                     'https://d17h27t6h515a5.cloudfront.net/topher/2017/September/59ad9909_29-12-years-a-slave-film/29-12-years-a-slave-film.txt',\n",
    "                     'https://d17h27t6h515a5.cloudfront.net/topher/2017/September/59ad9909_30-gravity-2013-film/30-gravity-2013-film.txt',\n",
    "                     'https://d17h27t6h515a5.cloudfront.net/topher/2017/September/59ad9909_31-sunset-boulevard-film/31-sunset-boulevard-film.txt',\n",
    "                     'https://d17h27t6h515a5.cloudfront.net/topher/2017/September/59ad990a_32-king-kong-1933-film/32-king-kong-1933-film.txt',\n",
    "                     'https://d17h27t6h515a5.cloudfront.net/topher/2017/September/59ad990a_33-spotlight-film/33-spotlight-film.txt',\n",
    "                     'https://d17h27t6h515a5.cloudfront.net/topher/2017/September/59ad990a_34-the-adventures-of-robin-hood/34-the-adventures-of-robin-hood.txt',\n",
    "                     'https://d17h27t6h515a5.cloudfront.net/topher/2017/September/59ad990b_35-rashomon/35-rashomon.txt',\n",
    "                     'https://d17h27t6h515a5.cloudfront.net/topher/2017/September/59ad990b_36-rear-window/36-rear-window.txt',\n",
    "                     'https://d17h27t6h515a5.cloudfront.net/topher/2017/September/59ad990b_37-selma-film/37-selma-film.txt',\n",
    "                     'https://d17h27t6h515a5.cloudfront.net/topher/2017/September/59ad990c_38-taxi-driver/38-taxi-driver.txt',\n",
    "                     'https://d17h27t6h515a5.cloudfront.net/topher/2017/September/59ad990c_39-toy-story-3/39-toy-story-3.txt',\n",
    "                     'https://d17h27t6h515a5.cloudfront.net/topher/2017/September/59ad990c_40-argo-2012-film/40-argo-2012-film.txt',\n",
    "                     'https://d17h27t6h515a5.cloudfront.net/topher/2017/September/59ad990d_41-toy-story-2/41-toy-story-2.txt',\n",
    "                     'https://d17h27t6h515a5.cloudfront.net/topher/2017/September/59ad990d_42-the-big-sick/42-the-big-sick.txt',\n",
    "                     'https://d17h27t6h515a5.cloudfront.net/topher/2017/September/59ad990d_43-bride-of-frankenstein/43-bride-of-frankenstein.txt',\n",
    "                     'https://d17h27t6h515a5.cloudfront.net/topher/2017/September/59ad990d_44-zootopia/44-zootopia.txt',\n",
    "                     'https://d17h27t6h515a5.cloudfront.net/topher/2017/September/59ad990e_45-m-1931-film/45-m-1931-film.txt',\n",
    "                     'https://d17h27t6h515a5.cloudfront.net/topher/2017/September/59ad990e_46-wonder-woman-2017-film/46-wonder-woman-2017-film.txt',\n",
    "                     'https://d17h27t6h515a5.cloudfront.net/topher/2017/September/59ad990e_48-alien-film/48-alien-film.txt',\n",
    "                     'https://d17h27t6h515a5.cloudfront.net/topher/2017/September/59ad990f_49-bicycle-thieves/49-bicycle-thieves.txt',\n",
    "                     'https://d17h27t6h515a5.cloudfront.net/topher/2017/September/59ad990f_50-seven-samurai/50-seven-samurai.txt',\n",
    "                     'https://d17h27t6h515a5.cloudfront.net/topher/2017/September/59ad990f_51-the-treasure-of-the-sierra-madre-film/51-the-treasure-of-the-sierra-madre-film.txt',\n",
    "                     'https://d17h27t6h515a5.cloudfront.net/topher/2017/September/59ad9910_52-up-2009-film/52-up-2009-film.txt',\n",
    "                     'https://d17h27t6h515a5.cloudfront.net/topher/2017/September/59ad9910_53-12-angry-men-1957-film/53-12-angry-men-1957-film.txt',\n",
    "                     'https://d17h27t6h515a5.cloudfront.net/topher/2017/September/59ad9910_54-the-400-blows/54-the-400-blows.txt',\n",
    "                     'https://d17h27t6h515a5.cloudfront.net/topher/2017/September/59ad9911_55-logan-film/55-logan-film.txt',\n",
    "                     'https://d17h27t6h515a5.cloudfront.net/topher/2017/September/59ad9911_57-army-of-shadows/57-army-of-shadows.txt',\n",
    "                     'https://d17h27t6h515a5.cloudfront.net/topher/2017/September/59ad9912_58-arrival-film/58-arrival-film.txt',\n",
    "                     'https://d17h27t6h515a5.cloudfront.net/topher/2017/September/59ad9912_59-baby-driver/59-baby-driver.txt',\n",
    "                     'https://d17h27t6h515a5.cloudfront.net/topher/2017/September/59ad9913_60-a-streetcar-named-desire-1951-film/60-a-streetcar-named-desire-1951-film.txt',\n",
    "                     'https://d17h27t6h515a5.cloudfront.net/topher/2017/September/59ad9913_61-the-night-of-the-hunter-film/61-the-night-of-the-hunter-film.txt',\n",
    "                     'https://d17h27t6h515a5.cloudfront.net/topher/2017/September/59ad9913_62-star-wars-the-force-awakens/62-star-wars-the-force-awakens.txt',\n",
    "                     'https://d17h27t6h515a5.cloudfront.net/topher/2017/September/59ad9913_63-manchester-by-the-sea-film/63-manchester-by-the-sea-film.txt',\n",
    "                     'https://d17h27t6h515a5.cloudfront.net/topher/2017/September/59ad9914_64-dr.-strangelove/64-dr.-strangelove.txt',\n",
    "                     'https://d17h27t6h515a5.cloudfront.net/topher/2017/September/59ad9914_66-vertigo-film/66-vertigo-film.txt',\n",
    "                     'https://d17h27t6h515a5.cloudfront.net/topher/2017/September/59ad9914_67-the-dark-knight-film/67-the-dark-knight-film.txt',\n",
    "                     'https://d17h27t6h515a5.cloudfront.net/topher/2017/September/59ad9915_68-touch-of-evil/68-touch-of-evil.txt',\n",
    "                     'https://d17h27t6h515a5.cloudfront.net/topher/2017/September/59ad9915_69-the-babadook/69-the-babadook.txt',\n",
    "                     'https://d17h27t6h515a5.cloudfront.net/topher/2017/September/59ad9915_72-rosemary27s-baby-film/72-rosemary27s-baby-film.txt',\n",
    "                     'https://d17h27t6h515a5.cloudfront.net/topher/2017/September/59ad9916_73-finding-nemo/73-finding-nemo.txt',\n",
    "                     'https://d17h27t6h515a5.cloudfront.net/topher/2017/September/59ad9916_74-brooklyn-film/74-brooklyn-film.txt',\n",
    "                     'https://d17h27t6h515a5.cloudfront.net/topher/2017/September/59ad9917_75-the-wrestler-2008-film/75-the-wrestler-2008-film.txt',\n",
    "                     'https://d17h27t6h515a5.cloudfront.net/topher/2017/September/59ad9917_77-l.a.-confidential-film/77-l.a.-confidential-film.txt',\n",
    "                     'https://d17h27t6h515a5.cloudfront.net/topher/2017/September/59ad9918_78-gone-with-the-wind-film/78-gone-with-the-wind-film.txt',\n",
    "                     'https://d17h27t6h515a5.cloudfront.net/topher/2017/September/59ad9918_79-the-good-the-bad-and-the-ugly/79-the-good-the-bad-and-the-ugly.txt',\n",
    "                     'https://d17h27t6h515a5.cloudfront.net/topher/2017/September/59ad9918_80-skyfall/80-skyfall.txt',\n",
    "                     'https://d17h27t6h515a5.cloudfront.net/topher/2017/September/59ad9919_82-tokyo-story/82-tokyo-story.txt',\n",
    "                     'https://d17h27t6h515a5.cloudfront.net/topher/2017/September/59ad9919_83-hell-or-high-water-film/83-hell-or-high-water-film.txt',\n",
    "                     'https://d17h27t6h515a5.cloudfront.net/topher/2017/September/59ad9919_84-pinocchio-1940-film/84-pinocchio-1940-film.txt',\n",
    "                     'https://d17h27t6h515a5.cloudfront.net/topher/2017/September/59ad9919_85-the-jungle-book-2016-film/85-the-jungle-book-2016-film.txt',\n",
    "                     'https://d17h27t6h515a5.cloudfront.net/topher/2017/September/59ad991a_86-la-la-land-film/86-la-la-land-film.txt',\n",
    "                     'https://d17h27t6h515a5.cloudfront.net/topher/2017/September/59ad991b_87-star-trek-film/87-star-trek-film.txt',\n",
    "                     'https://d17h27t6h515a5.cloudfront.net/topher/2017/September/59ad991b_89-apocalypse-now/89-apocalypse-now.txt',\n",
    "                     'https://d17h27t6h515a5.cloudfront.net/topher/2017/September/59ad991c_90-on-the-waterfront/90-on-the-waterfront.txt',\n",
    "                     'https://d17h27t6h515a5.cloudfront.net/topher/2017/September/59ad991c_91-the-wages-of-fear/91-the-wages-of-fear.txt',\n",
    "                     'https://d17h27t6h515a5.cloudfront.net/topher/2017/September/59ad991c_92-the-last-picture-show/92-the-last-picture-show.txt',\n",
    "                     'https://d17h27t6h515a5.cloudfront.net/topher/2017/September/59ad991d_93-harry-potter-and-the-deathly-hallows-part-2/93-harry-potter-and-the-deathly-hallows-part-2.txt',\n",
    "                     'https://d17h27t6h515a5.cloudfront.net/topher/2017/September/59ad991d_94-the-grapes-of-wrath-film/94-the-grapes-of-wrath-film.txt',\n",
    "                     'https://d17h27t6h515a5.cloudfront.net/topher/2017/September/59ad991d_96-man-on-wire/96-man-on-wire.txt',\n",
    "                     'https://d17h27t6h515a5.cloudfront.net/topher/2017/September/59ad991e_97-jaws-film/97-jaws-film.txt',\n",
    "                     'https://d17h27t6h515a5.cloudfront.net/topher/2017/September/59ad991e_98-toy-story/98-toy-story.txt',\n",
    "                     'https://d17h27t6h515a5.cloudfront.net/topher/2017/September/59ad991e_99-the-godfather-part-ii/99-the-godfather-part-ii.txt',\n",
    "                     'https://d17h27t6h515a5.cloudfront.net/topher/2017/September/59ad991e_100-battleship-potemkin/100-battleship-potemkin.txt']"
   ]
  },
  {
   "cell_type": "code",
   "execution_count": 16,
   "metadata": {},
   "outputs": [],
   "source": [
    "# Our text is stored in the body of the response which we can get using .content\n",
    "# Text stored in bytes format so open in mode='wb' \n",
    "for url in ebert_review_urls:\n",
    "# Use GET to obtain data from URL\n",
    "    response = requests.get(url)\n",
    "    with open(os.path.join(folder_name,\n",
    "# For file name get everything after the last slash in the url\n",
    "# Use split fxn to get last item in the list returned\n",
    "                      url.split('/')[-1]), mode='wb') as file:\n",
    "# Write to file handle we've opened\n",
    "        file.write(response.content)"
   ]
  },
  {
   "cell_type": "code",
   "execution_count": 17,
   "metadata": {},
   "outputs": [
    {
     "data": {
      "text/plain": [
       "['26-dunkirk-2017-film.txt',\n",
       " '57-army-of-shadows.txt',\n",
       " '48-alien-film.txt',\n",
       " '43-bride-of-frankenstein.txt',\n",
       " '54-the-400-blows.txt',\n",
       " '63-manchester-by-the-sea-film.txt',\n",
       " '5-mad-max-fury-road.txt',\n",
       " '46-wonder-woman-2017-film.txt',\n",
       " '49-bicycle-thieves.txt',\n",
       " '19-laura-1944-film.txt',\n",
       " '98-toy-story.txt',\n",
       " '90-on-the-waterfront.txt',\n",
       " '39-toy-story-3.txt',\n",
       " '82-tokyo-story.txt',\n",
       " '23-la-grande-illusion.txt',\n",
       " '92-the-last-picture-show.txt',\n",
       " '36-rear-window.txt',\n",
       " '78-gone-with-the-wind-film.txt',\n",
       " '60-a-streetcar-named-desire-1951-film.txt',\n",
       " '84-pinocchio-1940-film.txt',\n",
       " '32-king-kong-1933-film.txt',\n",
       " '58-arrival-film.txt',\n",
       " '64-dr.-strangelove.txt',\n",
       " '40-argo-2012-film.txt',\n",
       " '22-a-hard-day27s-night-film.txt',\n",
       " '37-selma-film.txt',\n",
       " '83-hell-or-high-water-film.txt',\n",
       " '30-gravity-2013-film.txt',\n",
       " '55-logan-film.txt',\n",
       " '10-metropolis-1927-film.txt',\n",
       " '42-the-big-sick.txt',\n",
       " '72-rosemary27s-baby-film.txt',\n",
       " '53-12-angry-men-1957-film.txt',\n",
       " '4-get-out-film.txt',\n",
       " '11-e.t.-the-extra-terrestrial.txt',\n",
       " '44-zootopia.txt',\n",
       " '27-the-maltese-falcon-1941-film.txt',\n",
       " '52-up-2009-film.txt',\n",
       " '1-the-wizard-of-oz-1939-film.txt',\n",
       " '89-apocalypse-now.txt',\n",
       " '9-the-godfather.txt',\n",
       " '75-the-wrestler-2008-film.txt',\n",
       " '100-battleship-potemkin.txt',\n",
       " '94-the-grapes-of-wrath-film.txt',\n",
       " '12-modern-times-film.txt',\n",
       " '77-l.a.-confidential-film.txt',\n",
       " '17-moonlight-2016-film.txt',\n",
       " '35-rashomon.txt',\n",
       " '80-skyfall.txt',\n",
       " '16-casablanca-film.txt',\n",
       " '3-the-third-man.txt',\n",
       " '34-the-adventures-of-robin-hood.txt',\n",
       " '45-m-1931-film.txt',\n",
       " '69-the-babadook.txt',\n",
       " '21-snow-white-and-the-seven-dwarfs-1937-film.txt',\n",
       " '62-star-wars-the-force-awakens.txt',\n",
       " '87-star-trek-film.txt',\n",
       " '97-jaws-film.txt',\n",
       " '29-12-years-a-slave-film.txt',\n",
       " '85-the-jungle-book-2016-film.txt',\n",
       " '73-finding-nemo.txt',\n",
       " '8-inside-out-2015-film.txt',\n",
       " '93-harry-potter-and-the-deathly-hallows-part-2.txt',\n",
       " '51-the-treasure-of-the-sierra-madre-film.txt',\n",
       " '31-sunset-boulevard-film.txt',\n",
       " '99-the-godfather-part-ii.txt',\n",
       " '7-all-about-eve.txt',\n",
       " '61-the-night-of-the-hunter-film.txt',\n",
       " '66-vertigo-film.txt',\n",
       " '38-taxi-driver.txt',\n",
       " '91-the-wages-of-fear.txt',\n",
       " '33-spotlight-film.txt',\n",
       " '25-the-battle-of-algiers.txt',\n",
       " '86-la-la-land-film.txt',\n",
       " '2-citizen-kane.txt',\n",
       " '50-seven-samurai.txt',\n",
       " '74-brooklyn-film.txt',\n",
       " '18-psycho-1960-film.txt',\n",
       " '15-boyhood-film.txt',\n",
       " '79-the-good-the-bad-and-the-ugly.txt',\n",
       " '67-the-dark-knight-film.txt',\n",
       " '68-touch-of-evil.txt',\n",
       " '59-baby-driver.txt',\n",
       " '96-man-on-wire.txt',\n",
       " '41-toy-story-2.txt',\n",
       " '20-nosferatu.txt',\n",
       " '14-singin-in-the-rain.txt',\n",
       " '6-the-cabinet-of-dr.-caligari.txt']"
      ]
     },
     "execution_count": 17,
     "metadata": {},
     "output_type": "execute_result"
    }
   ],
   "source": [
    "# Check to make sure the files were downloaded\n",
    "os.listdir(folder_name)"
   ]
  },
  {
   "cell_type": "markdown",
   "metadata": {},
   "source": [
    "## Extracting text from Ebert review"
   ]
  },
  {
   "cell_type": "markdown",
   "metadata": {},
   "source": [
    "Need to select the right encoding to display the character sets properly. \n",
    "\n",
    "### Unicode and Python\n",
    "In Python 3, there is:\n",
    "* one text type: str, which holds Unicode data and\n",
    "* two byte types: bytes and bytearray\n",
    "    "
   ]
  },
  {
   "cell_type": "markdown",
   "metadata": {},
   "source": [
    "Gathering data from text files in Python means opening and reading from files. If you're using Pandas then this also means storing the text data you just read in a Pandas dataframe. \n",
    "\n",
    "We have 88 review to open and read. We'll need a loop to iterate through all of the files in the folder to open and read each. There are 2 main ways of doing this:\n",
    "1. Using the os library\n",
    "2. Using a libray called **glob**\n",
    "\n",
    "We've been using os.listdir so far which is good if you're sure you wnt to open every file in the folder. Let's switch it up and use glob instead. The glob library allows for using glob patterns to specify sets of file names. These glob patterns use wildcard characters. \n",
    "\n",
    "* **glob.glob** returns a list of path names that match *pathname*, i.e. the string aprameter you pass in\n",
    "We can use this to find all files that end in .txt, which in our folder is all of them. This returns a list that we can then loop through.\n",
    "* Make sure to **include encoding when opeing a file**. In order to find out what encoding to use we can go toone of the review pages on Robert Eberts site and **inspect source.** \n",
    "* When we open the file we don't want all of the text which would be done using print(file.read()). We want the following as seperate pieces of data:\n",
    "    * the first line a.k.a. the movie title (to merge to the master dataset with)\n",
    "    * the second line a.k.a. the review URL (not necessary for the word cloud but nice to have)\n",
    "    * everything from the third line onwards a.k.a. the review text\n",
    "* Since text files are seperated by new line characters and the file object returned from *with open as file* is an iterator we can read the file line by line. If you just want to read one line you use **.readline()**\n",
    "* There's actually a bit of whitespace after the movie titele which is the newline charcater. We can get rid of that by slicing it off at the end of the title\n"
   ]
  },
  {
   "cell_type": "code",
   "execution_count": 18,
   "metadata": {},
   "outputs": [],
   "source": [
    "import glob\n",
    "\n",
    "for ebert_review in glob.glob('ebert_review/*.txt'):\n",
    "    with open(ebert_review) as file: \n",
    "        title = file.readline()[:-1]       "
   ]
  },
  {
   "cell_type": "markdown",
   "metadata": {},
   "source": [
    "We also want the review URL and the view text. But first we want all of this **data in a Pandas dataframe** so we need to build one. The most computationally efficient way to do that is to **create an empty list** and populate that list one by one as we iterate through this loop. We'll **fill this list with dictionaries** and the list of dictionaries will be later converted to a pnadas dataframe.  "
   ]
  },
  {
   "cell_type": "code",
   "execution_count": 19,
   "metadata": {},
   "outputs": [],
   "source": [
    "# List of dictionaries to build file by file and later convert to a DataFrame\n",
    "df_list = []\n",
    "for ebert_review in glob.glob('ebert_reviews/*.txt'):\n",
    "    with open(ebert_review) as file:\n",
    "        title = file.readline()[:-1]\n",
    "        review_url = file.readline()[:-1]\n",
    "        review_text = file.read()\n",
    "\n",
    "        # Append to list of dictionaries\n",
    "        df_list.append({'title': title,\n",
    "                        'review_url': review_url,\n",
    "                        'review_text': review_text})\n",
    "df = pd.DataFrame(df_list, columns = ['title', 'review_url', 'review_text'])"
   ]
  },
  {
   "cell_type": "code",
   "execution_count": 20,
   "metadata": {},
   "outputs": [
    {
     "data": {
      "text/html": [
       "<div>\n",
       "<table border=\"1\" class=\"dataframe\">\n",
       "  <thead>\n",
       "    <tr style=\"text-align: right;\">\n",
       "      <th></th>\n",
       "      <th>title</th>\n",
       "      <th>review_url</th>\n",
       "      <th>review_text</th>\n",
       "    </tr>\n",
       "  </thead>\n",
       "  <tbody>\n",
       "    <tr>\n",
       "      <th>0</th>\n",
       "      <td>Dunkirk (2017)</td>\n",
       "      <td>http://www.rogerebert.com/reviews/dunkirk-2017</td>\n",
       "      <td>Lean and ambitious, unsentimental and bombasti...</td>\n",
       "    </tr>\n",
       "    <tr>\n",
       "      <th>1</th>\n",
       "      <td>Army of Shadows (L'Armée des ombres) (1969)</td>\n",
       "      <td>http://www.rogerebert.com/reviews/great-movie-...</td>\n",
       "      <td>Jean-Pierre Melville's \"Army of Shadows\" is ab...</td>\n",
       "    </tr>\n",
       "    <tr>\n",
       "      <th>2</th>\n",
       "      <td>Alien (1979)</td>\n",
       "      <td>http://www.rogerebert.com/reviews/great-movie-...</td>\n",
       "      <td>At its most fundamental level, \"Alien\" is a mo...</td>\n",
       "    </tr>\n",
       "    <tr>\n",
       "      <th>3</th>\n",
       "      <td>The Bride of Frankenstein (1935)</td>\n",
       "      <td>http://www.rogerebert.com/reviews/great-movie-...</td>\n",
       "      <td>To a new world of gods and monsters.\\n\\nSo int...</td>\n",
       "    </tr>\n",
       "    <tr>\n",
       "      <th>4</th>\n",
       "      <td>The 400 Blows (Les Quatre cents coups) (1959)</td>\n",
       "      <td>http://www.rogerebert.com/reviews/great-movie-...</td>\n",
       "      <td>I demand that a film express either the joy of...</td>\n",
       "    </tr>\n",
       "  </tbody>\n",
       "</table>\n",
       "</div>"
      ],
      "text/plain": [
       "                                           title  \\\n",
       "0                                 Dunkirk (2017)   \n",
       "1    Army of Shadows (L'Armée des ombres) (1969)   \n",
       "2                                   Alien (1979)   \n",
       "3               The Bride of Frankenstein (1935)   \n",
       "4  The 400 Blows (Les Quatre cents coups) (1959)   \n",
       "\n",
       "                                          review_url  \\\n",
       "0     http://www.rogerebert.com/reviews/dunkirk-2017   \n",
       "1  http://www.rogerebert.com/reviews/great-movie-...   \n",
       "2  http://www.rogerebert.com/reviews/great-movie-...   \n",
       "3  http://www.rogerebert.com/reviews/great-movie-...   \n",
       "4  http://www.rogerebert.com/reviews/great-movie-...   \n",
       "\n",
       "                                         review_text  \n",
       "0  Lean and ambitious, unsentimental and bombasti...  \n",
       "1  Jean-Pierre Melville's \"Army of Shadows\" is ab...  \n",
       "2  At its most fundamental level, \"Alien\" is a mo...  \n",
       "3  To a new world of gods and monsters.\\n\\nSo int...  \n",
       "4  I demand that a film express either the joy of...  "
      ]
     },
     "execution_count": 20,
     "metadata": {},
     "output_type": "execute_result"
    }
   ],
   "source": [
    "df.head()"
   ]
  },
  {
   "cell_type": "markdown",
   "metadata": {},
   "source": [
    "## Source: APIs "
   ]
  },
  {
   "cell_type": "markdown",
   "metadata": {},
   "source": [
    "Now we're going to get each movies poster. Since each movie has it's poster on it's Wikipedia page we can use Wikipedia's API to get the images. We'll be using the **Mediawiki API**."
   ]
  },
  {
   "cell_type": "markdown",
   "metadata": {},
   "source": [
    "We could have used Rotten Tomatoes API and the **rtsimple** libraray to get the Audience and critic scores. here's how it would have worked:"
   ]
  },
  {
   "cell_type": "code",
   "execution_count": 21,
   "metadata": {},
   "outputs": [],
   "source": [
    "# Note:need API key for code to run\n",
    "#import rtsimple as rt\n",
    "\n",
    "#rt.API_KEY = \"YOUR KEY HERE\"\n",
    "#create movie object with the movie ID for E.T.\n",
    "#movie = rt.Movies('10489')\n",
    "#Access movie ratings\n",
    "#movie.ratings['audience_score']"
   ]
  },
  {
   "cell_type": "markdown",
   "metadata": {},
   "source": [
    "Because we can't use the Rotten Tomatoes API (requires proposal form) we're going to use MediaWiki along with **wptools** library.\n",
    "\n",
    "* To get a **page object**, the usage is as follows: *page = wptools.page('Mahatma_Gandhi')* where 'Mahatma_Gandhi' is the last bit of the Wikipedia URL for that page. This page object has methods that can get us various pieces of data about that Wikipedia page, including all of the images on the page. \n",
    "* To get all of the data: *page = wptools.page('Mahatma_Gandhi').get()*\n",
    "* page now has the all associated attributes (such as image, infobox, links etc.), which can be accessed using dot notation through .data. e.g. *page.data['image']* would return a list of data for six images on this specific Wikipedia page."
   ]
  },
  {
   "cell_type": "markdown",
   "metadata": {},
   "source": [
    "Now we'll get the page object for the E.T. The Extra-Terrestial Wikipedia page."
   ]
  },
  {
   "cell_type": "code",
   "execution_count": 22,
   "metadata": {},
   "outputs": [
    {
     "name": "stderr",
     "output_type": "stream",
     "text": [
      "en.wikipedia.org (query) E.T._the_Extra-Terrestrial\n",
      "en.wikipedia.org (parse) 73441\n",
      "www.wikidata.org (wikidata) Q11621\n",
      "www.wikidata.org (labels) P18|P3593|P58|P3145|Q3897561|P3212|Q488...\n",
      "www.wikidata.org (labels) Q1860|P1712|P2529|Q3953565|Q652644|Q686...\n",
      "www.wikidata.org (labels) P905|P921|P3844|P345|P57|P2631|P166|Q28...\n",
      "www.wikidata.org (labels) Q471839|Q952914|Q1044183|Q918617|P3203|P1237\n",
      "en.wikipedia.org (restbase) /page/summary/E.T._the_Extra-Terrestrial\n",
      "en.wikipedia.org (imageinfo) File:E t the extra terrestrial ver3....\n",
      "E.T. the Extra-Terrestrial (en) data\n",
      "{\n",
      "  aliases: <list(2)> E.T., ET\n",
      "  claims: <dict(78)> P86, P18, P3593, P58, P268, P3145, P244, P321...\n",
      "  description: 1982 American science fiction film\n",
      "  exhtml: <str(825)> <p><i><b>E.T. the Extra-Terrestrial</b></i> i...\n",
      "  exrest: <str(794)> E.T. the Extra-Terrestrial is a 1982 American...\n",
      "  extext: <str(1808)> _**E.T. the Extra-Terrestrial**_ is a 1982 A...\n",
      "  extract: <str(1898)> <p><i><b>E.T. the Extra-Terrestrial</b></i>...\n",
      "  image: <list(4)> {'kind': 'parse-image', 'height': 394, 'timesta...\n",
      "  infobox: <dict(19)> alt, released, language, distributor, countr...\n",
      "  iwlinks: <list(4)> https://commons.wikimedia.org/wiki/Special:Se...\n",
      "  label: E.T. the Extra-Terrestrial\n",
      "  labels: <dict(156)> P86, P18, P3650, P3593, P58, P1552, P268, P4...\n",
      "  length: 75,010\n",
      "  links: <list(403)> 12 Monkeys, 12 Years a Slave (film), 1941 (fi...\n",
      "  modified: <dict(2)> wikidata, page\n",
      "  pageid: 73441\n",
      "  parsetree: <str(93310)> <root><template><title>Redirect</title><...\n",
      "  random: Yohaejin Station\n",
      "  redirects: <list(38)> {'pageid': 177061, 'title': 'E.T., the Ext...\n",
      "  requests: <list(9)> query, parse, wikidata, labels, labels, labe...\n",
      "  title: E.T._the_Extra-Terrestrial\n",
      "  url: https://en.wikipedia.org/wiki/E.T._the_Extra-Terrestrial\n",
      "  url_raw: <str(67)> https://en.wikipedia.org/wiki/E.T._the_Extra-...\n",
      "  watchers: 252\n",
      "  what: film\n",
      "  wikibase: Q11621\n",
      "  wikidata: <dict(78)> Cinema ID (P3933), EDb film ID (P3141), top...\n",
      "  wikidata_url: https://www.wikidata.org/wiki/Q11621\n",
      "  wikitext: <str(74723)> {{Redirect|E.T.|other uses|ET (disambigua...\n",
      "}\n"
     ]
    },
    {
     "data": {
      "text/plain": [
       "[{'descriptionshorturl': 'https://en.wikipedia.org/w/index.php?curid=7419503',\n",
       "  'descriptionurl': 'https://en.wikipedia.org/wiki/File:E_t_the_extra_terrestrial_ver3.jpg',\n",
       "  'file': 'File:E t the extra terrestrial ver3.jpg',\n",
       "  'height': 394,\n",
       "  'kind': 'parse-image',\n",
       "  'orig': 'E t the extra terrestrial ver3.jpg',\n",
       "  'size': 83073,\n",
       "  'timestamp': '2016-06-04T10:30:46Z',\n",
       "  'title': 'File:E t the extra terrestrial ver3.jpg',\n",
       "  'url': 'https://upload.wikimedia.org/wikipedia/en/6/66/E_t_the_extra_terrestrial_ver3.jpg',\n",
       "  'width': 253},\n",
       " {'descriptionshorturl': 'https://commons.wikimedia.org/w/index.php?curid=14138952',\n",
       "  'descriptionurl': 'https://commons.wikimedia.org/wiki/File:ET_logo_3.svg',\n",
       "  'file': 'File:ET logo 3.svg',\n",
       "  'height': 380,\n",
       "  'kind': 'wikidata-image',\n",
       "  'orig': 'ET logo 3.svg',\n",
       "  'size': 77290,\n",
       "  'timestamp': '2011-05-14T20:38:17Z',\n",
       "  'title': 'File:ET logo 3.svg',\n",
       "  'url': 'https://upload.wikimedia.org/wikipedia/commons/8/85/ET_logo_3.svg',\n",
       "  'width': 512},\n",
       " {'file': 'File:E t the extra terrestrial ver3.jpg',\n",
       "  'height': 394,\n",
       "  'kind': 'restbase-original',\n",
       "  'orig': 'E_t_the_extra_terrestrial_ver3.jpg',\n",
       "  'url': 'https://upload.wikimedia.org/wikipedia/en/6/66/E_t_the_extra_terrestrial_ver3.jpg',\n",
       "  'width': 253},\n",
       " {'file': 'File:205px-E t the extra terrestrial ver3.jpg',\n",
       "  'height': 320,\n",
       "  'kind': 'restbase-thumb',\n",
       "  'orig': '205px-E_t_the_extra_terrestrial_ver3.jpg',\n",
       "  'url': 'https://upload.wikimedia.org/wikipedia/en/thumb/6/66/E_t_the_extra_terrestrial_ver3.jpg/205px-E_t_the_extra_terrestrial_ver3.jpg',\n",
       "  'width': 205}]"
      ]
     },
     "execution_count": 22,
     "metadata": {},
     "output_type": "execute_result"
    }
   ],
   "source": [
    "import wptools\n",
    "\n",
    "page = wptools.page('E.T._the_Extra-Terrestrial').get()\n",
    "\n",
    "# Accessing the image attribute will return the images for this page\n",
    "page.data['image']"
   ]
  },
  {
   "cell_type": "markdown",
   "metadata": {},
   "source": [
    "## JSON Files in Python"
   ]
  },
  {
   "cell_type": "markdown",
   "metadata": {},
   "source": [
    "Most data from APIs come in JSON or XML format. We'll focus on JSON.\n",
    "\n",
    "Sometimes we are limited in what we can represent in tabular data. \n",
    "* We might have fields that have multiple entries, like producers for a movie. \n",
    "* Fields may have subfields, like release date having a date and location of release.\n",
    "JSON is great for representing and accessing complicated data heirachies, like our Wikipedia infobox.\n",
    "\n",
    "* **JSON objects** are a collection of key value pairs. Objects are surrounded by curly braces. In Python JSON objects are **interpreted as dictionaries** and you can access them in the same way. \n",
    "* **JSON arrays** are an ordered list of values denoted by square brackets. In Python, JSON arrays are **interpreted as lists** and are accessed in the same way. \n"
   ]
  },
  {
   "cell_type": "markdown",
   "metadata": {},
   "source": [
    "Let's inspect the wptools page object for the E.T. The Extra-Terrestial Wikipedia page. "
   ]
  },
  {
   "cell_type": "code",
   "execution_count": 23,
   "metadata": {},
   "outputs": [
    {
     "name": "stderr",
     "output_type": "stream",
     "text": [
      "en.wikipedia.org (query) E.T._the_Extra-Terrestrial\n",
      "en.wikipedia.org (parse) 73441\n",
      "www.wikidata.org (wikidata) Q11621\n",
      "www.wikidata.org (labels) P18|P3593|P58|P3145|Q3897561|P3212|Q488...\n",
      "www.wikidata.org (labels) Q1860|P1712|P2529|Q3953565|Q652644|Q686...\n",
      "www.wikidata.org (labels) P905|P921|P3844|P345|P57|P2631|P166|Q28...\n",
      "www.wikidata.org (labels) Q471839|Q952914|Q1044183|Q918617|P3203|P1237\n",
      "en.wikipedia.org (restbase) /page/summary/E.T._the_Extra-Terrestrial\n",
      "en.wikipedia.org (imageinfo) File:E t the extra terrestrial ver3....\n",
      "E.T. the Extra-Terrestrial (en) data\n",
      "{\n",
      "  aliases: <list(2)> E.T., ET\n",
      "  claims: <dict(78)> P86, P18, P3593, P58, P268, P3145, P244, P321...\n",
      "  description: 1982 American science fiction film\n",
      "  exhtml: <str(825)> <p><i><b>E.T. the Extra-Terrestrial</b></i> i...\n",
      "  exrest: <str(794)> E.T. the Extra-Terrestrial is a 1982 American...\n",
      "  extext: <str(1808)> _**E.T. the Extra-Terrestrial**_ is a 1982 A...\n",
      "  extract: <str(1898)> <p><i><b>E.T. the Extra-Terrestrial</b></i>...\n",
      "  image: <list(4)> {'kind': 'parse-image', 'height': 394, 'timesta...\n",
      "  infobox: <dict(19)> alt, released, language, distributor, countr...\n",
      "  iwlinks: <list(4)> https://commons.wikimedia.org/wiki/Special:Se...\n",
      "  label: E.T. the Extra-Terrestrial\n",
      "  labels: <dict(156)> P86, P18, P3650, P3593, P58, P1552, P268, P4...\n",
      "  length: 75,010\n",
      "  links: <list(403)> 12 Monkeys, 12 Years a Slave (film), 1941 (fi...\n",
      "  modified: <dict(2)> wikidata, page\n",
      "  pageid: 73441\n",
      "  parsetree: <str(93310)> <root><template><title>Redirect</title><...\n",
      "  random: 0s BC\n",
      "  redirects: <list(38)> {'pageid': 177061, 'title': 'E.T., the Ext...\n",
      "  requests: <list(9)> query, parse, wikidata, labels, labels, labe...\n",
      "  title: E.T._the_Extra-Terrestrial\n",
      "  url: https://en.wikipedia.org/wiki/E.T._the_Extra-Terrestrial\n",
      "  url_raw: <str(67)> https://en.wikipedia.org/wiki/E.T._the_Extra-...\n",
      "  watchers: 252\n",
      "  what: film\n",
      "  wikibase: Q11621\n",
      "  wikidata: <dict(78)> Cinema ID (P3933), EDb film ID (P3141), top...\n",
      "  wikidata_url: https://www.wikidata.org/wiki/Q11621\n",
      "  wikitext: <str(74723)> {{Redirect|E.T.|other uses|ET (disambigua...\n",
      "}\n"
     ]
    }
   ],
   "source": [
    "\n",
    "page = wptools.page('E.T._the_Extra-Terrestrial').get()"
   ]
  },
  {
   "cell_type": "markdown",
   "metadata": {},
   "source": [
    "Access the first image in the images attribute, which is a JSON array."
   ]
  },
  {
   "cell_type": "code",
   "execution_count": 24,
   "metadata": {},
   "outputs": [
    {
     "data": {
      "text/plain": [
       "{'descriptionshorturl': 'https://en.wikipedia.org/w/index.php?curid=7419503',\n",
       " 'descriptionurl': 'https://en.wikipedia.org/wiki/File:E_t_the_extra_terrestrial_ver3.jpg',\n",
       " 'file': 'File:E t the extra terrestrial ver3.jpg',\n",
       " 'height': 394,\n",
       " 'kind': 'parse-image',\n",
       " 'orig': 'E t the extra terrestrial ver3.jpg',\n",
       " 'size': 83073,\n",
       " 'timestamp': '2016-06-04T10:30:46Z',\n",
       " 'title': 'File:E t the extra terrestrial ver3.jpg',\n",
       " 'url': 'https://upload.wikimedia.org/wikipedia/en/6/66/E_t_the_extra_terrestrial_ver3.jpg',\n",
       " 'width': 253}"
      ]
     },
     "execution_count": 24,
     "metadata": {},
     "output_type": "execute_result"
    }
   ],
   "source": [
    "page.data['image'][0]"
   ]
  },
  {
   "cell_type": "markdown",
   "metadata": {},
   "source": [
    "Access the director key of the infobox attribute, which is a JSON object."
   ]
  },
  {
   "cell_type": "code",
   "execution_count": 25,
   "metadata": {},
   "outputs": [
    {
     "data": {
      "text/plain": [
       "'[[Steven Spielberg]]'"
      ]
     },
     "execution_count": 25,
     "metadata": {},
     "output_type": "execute_result"
    }
   ],
   "source": [
    "page.data['infobox']['director']"
   ]
  },
  {
   "cell_type": "markdown",
   "metadata": {},
   "source": [
    "## APIs, Downloading Files Programmatically, and JSON"
   ]
  },
  {
   "cell_type": "markdown",
   "metadata": {},
   "source": [
    "There are two key things to be aware of before you begin:\n",
    "1. Wikipedia Page Titles. To access Wikipedia page data via the MediaWiki API with wptools, you need each movie's Wikipedia page title, i.e., what comes after the last slash in en.wikipedia.org/wiki/ in the URL. For this lesson,  the titles for each of the movies in the Top 100 has been complied.\n",
    "2. Downloading Image Files. You can use regular file opening, reading, and writing techniques, like this:"
   ]
  },
  {
   "cell_type": "code",
   "execution_count": 26,
   "metadata": {},
   "outputs": [],
   "source": [
    "#import requests\n",
    "#r = requests.get(url)\n",
    "#with open(folder_name + '/' + filename, 'wb') as f:\n",
    "#        f.write(r.content)"
   ]
  },
  {
   "cell_type": "markdown",
   "metadata": {},
   "source": [
    "But this technique can be error-prone. It will work most of the time, but sometimes the file you write to will be damaged. This type of error is why the requests library maintainers recommend using the PIL library (short for Pillow) and BytesIO from the io library for non-text requests, like images. They recommend that you access the response body as bytes, for non-text requests. For example, to create an image from binary data returned by a request:"
   ]
  },
  {
   "cell_type": "code",
   "execution_count": 27,
   "metadata": {},
   "outputs": [],
   "source": [
    "#import requests\n",
    "#from PIL import Image\n",
    "#from io import BytesIO\n",
    "#r = requests.get(url)\n",
    "#i = Image.open(BytesIO(r.content))"
   ]
  },
  {
   "cell_type": "markdown",
   "metadata": {},
   "source": [
    "Though you may still encounter a similar file error, this code above will at least warn us with an error message, at which point we can manually download the problematic images."
   ]
  },
  {
   "cell_type": "markdown",
   "metadata": {},
   "source": [
    "Let's gather the last piece of data for the Roger Ebert review word clouds now: the movie poster image files. Let's also keep each image's URL to add to the master DataFrame later.\n",
    "\n",
    "Though we're going to use a loop to minimize repetition, here's how the major parts inside that loop will work, in order:\n",
    "\n",
    "1. We're going to query the MediaWiki API using wptools to get a movie poster URL via each page object's image attribute.\n",
    "2. Using that URL, we'll programmatically download that image into a folder called bestofrt_posters."
   ]
  },
  {
   "cell_type": "markdown",
   "metadata": {},
   "source": [
    "The code below contains code that:\n",
    "\n",
    "* Contains title_list, which is a list of all of the Wikipedia page titles for each movie in the Rotten Tomatoes Top 100 Movies of All Time list. This list is in the same order as the Top 100.\n",
    "* Creates an empty list, df_list, to which dictionaries will be appended. This list of dictionaries will eventually be converted to a pandas DataFrame (this is the most efficient way of building a DataFrame row by row).\n",
    "* Creates an empty folder, bestofrt_posters, to store the downloaded movie poster image files.\n",
    "* Creates an empty dictionary, image_errors, to fill to keep track of movie poster image URLs that don't work.\n",
    "* Loops through the Wikipedia page titles in title_list and:\n",
    "    * Stores the ranking of that movie in the Top 100 list based on its position in title_list. Ranking is needed so we can join this DataFrame with the master DataFrame later. We can't join on title because the titles of the Rotten Tomatoes pages and the Wikipedia pages differ.\n",
    "    * Uses try and except blocks to attempt to query MediaWiki for a movie poster image URL and to attempt to download that image. If the attempt fails and an error is encountered, the offending movie is documented in image_errors.\n",
    "    * Appends a dictionary with ranking, title, and poster_url as the keys and the extracted values for each as the values to df_list.\n",
    "* Inspects the images that caused errors and downloads the correct image individually (either via another URL in the image attribute's list or a URL from Google Images)\n",
    "* Creates a DataFrame called df by converting df_list using the pd.DataFrame constructor."
   ]
  },
  {
   "cell_type": "code",
   "execution_count": 29,
   "metadata": {},
   "outputs": [
    {
     "name": "stdout",
     "output_type": "stream",
     "text": [
      "1\n",
      "2\n",
      "3\n",
      "4\n",
      "5\n",
      "6\n",
      "7\n",
      "8\n",
      "9\n",
      "10\n",
      "11\n",
      "12\n",
      "13\n",
      "14\n",
      "15\n",
      "16\n",
      "17\n",
      "18\n",
      "19\n",
      "20\n",
      "21\n",
      "22\n"
     ]
    },
    {
     "name": "stderr",
     "output_type": "stream",
     "text": [
      "API error: {'info': 'Bad title \"A_Hard_Day%27s_Night_(film)\".', 'docref': 'See https://en.wikipedia.org/w/api.php for API usage. Subscribe to the mediawiki-api-announce mailing list at &lt;https://lists.wikimedia.org/mailman/listinfo/mediawiki-api-announce&gt; for notice of API deprecations and breaking changes.', 'code': 'invalidtitle'}\n"
     ]
    },
    {
     "name": "stdout",
     "output_type": "stream",
     "text": [
      "22_A_Hard_Day%27s_Night_(film): https://en.wikipedia.org/w/api.php?action=parse&formatversion=2&contentmodel=text&disableeditsection=&disablelimitreport=&disabletoc=&prop=text|iwlinks|parsetree|wikitext|displaytitle|properties&redirects&page=A_Hard_Day%2527s_Night_%28film%29\n",
      "23\n",
      "24\n",
      "25\n",
      "26\n",
      "27\n",
      "28\n",
      "29\n",
      "30\n",
      "31\n",
      "32\n",
      "33\n",
      "34\n",
      "35\n",
      "36\n",
      "37\n",
      "38\n",
      "39\n",
      "40\n",
      "41\n",
      "42\n",
      "43\n",
      "44\n",
      "45\n",
      "46\n",
      "47\n",
      "48\n",
      "49\n",
      "50\n",
      "51\n",
      "52\n",
      "53\n",
      "53_12_Angry_Men_(1957_film): cannot identify image file <_io.BytesIO object at 0x1186464c8>\n",
      "54\n",
      "55\n",
      "56\n",
      "57\n",
      "58\n",
      "59\n",
      "60\n",
      "61\n",
      "62\n",
      "63\n",
      "64\n",
      "64_Dr._Strangelove: cannot identify image file <_io.BytesIO object at 0x11865db28>\n",
      "65\n",
      "66\n",
      "67\n",
      "68\n",
      "69\n",
      "70\n",
      "71\n",
      "72\n"
     ]
    },
    {
     "name": "stderr",
     "output_type": "stream",
     "text": [
      "API error: {'info': 'Bad title \"Rosemary%27s_Baby_(film)\".', 'docref': 'See https://en.wikipedia.org/w/api.php for API usage. Subscribe to the mediawiki-api-announce mailing list at &lt;https://lists.wikimedia.org/mailman/listinfo/mediawiki-api-announce&gt; for notice of API deprecations and breaking changes.', 'code': 'invalidtitle'}\n"
     ]
    },
    {
     "name": "stdout",
     "output_type": "stream",
     "text": [
      "72_Rosemary%27s_Baby_(film): https://en.wikipedia.org/w/api.php?action=parse&formatversion=2&contentmodel=text&disableeditsection=&disablelimitreport=&disabletoc=&prop=text|iwlinks|parsetree|wikitext|displaytitle|properties&redirects&page=Rosemary%2527s_Baby_%28film%29\n",
      "73\n",
      "74\n",
      "75\n",
      "76\n",
      "77\n",
      "78\n",
      "79\n",
      "80\n",
      "81\n",
      "82\n",
      "83\n",
      "84\n",
      "85\n",
      "86\n",
      "87\n",
      "88\n",
      "89\n",
      "90\n",
      "91\n",
      "92\n",
      "93\n",
      "93_Harry_Potter_and_the_Deathly_Hallows_–_Part_2: cannot identify image file <_io.BytesIO object at 0x1183f3108>\n",
      "94\n",
      "95\n",
      "96\n",
      "97\n",
      "98\n",
      "99\n",
      "100\n"
     ]
    }
   ],
   "source": [
    "from PIL import Image\n",
    "from io import BytesIO\n",
    "\n",
    "title_list = [\n",
    " 'The_Wizard_of_Oz_(1939_film)',\n",
    " 'Citizen_Kane',\n",
    " 'The_Third_Man',\n",
    " 'Get_Out_(film)',\n",
    " 'Mad_Max:_Fury_Road',\n",
    " 'The_Cabinet_of_Dr._Caligari',\n",
    " 'All_About_Eve',\n",
    " 'Inside_Out_(2015_film)',\n",
    " 'The_Godfather',\n",
    " 'Metropolis_(1927_film)',\n",
    " 'E.T._the_Extra-Terrestrial',\n",
    " 'Modern_Times_(film)',\n",
    " 'It_Happened_One_Night',\n",
    " \"Singin'_in_the_Rain\",\n",
    " 'Boyhood_(film)',\n",
    " 'Casablanca_(film)',\n",
    " 'Moonlight_(2016_film)',\n",
    " 'Psycho_(1960_film)',\n",
    " 'Laura_(1944_film)',\n",
    " 'Nosferatu',\n",
    " 'Snow_White_and_the_Seven_Dwarfs_(1937_film)',\n",
    " \"A_Hard_Day%27s_Night_(film)\",\n",
    " 'La_Grande_Illusion',\n",
    " 'North_by_Northwest',\n",
    " 'The_Battle_of_Algiers',\n",
    " 'Dunkirk_(2017_film)',\n",
    " 'The_Maltese_Falcon_(1941_film)',\n",
    " 'Repulsion_(film)',\n",
    " '12_Years_a_Slave_(film)',\n",
    " 'Gravity_(2013_film)',\n",
    " 'Sunset_Boulevard_(film)',\n",
    " 'King_Kong_(1933_film)',\n",
    " 'Spotlight_(film)',\n",
    " 'The_Adventures_of_Robin_Hood',\n",
    " 'Rashomon',\n",
    " 'Rear_Window',\n",
    " 'Selma_(film)',\n",
    " 'Taxi_Driver',\n",
    " 'Toy_Story_3',\n",
    " 'Argo_(2012_film)',\n",
    " 'Toy_Story_2',\n",
    " 'The_Big_Sick',\n",
    " 'Bride_of_Frankenstein',\n",
    " 'Zootopia',\n",
    " 'M_(1931_film)',\n",
    " 'Wonder_Woman_(2017_film)',\n",
    " 'The_Philadelphia_Story_(film)',\n",
    " 'Alien_(film)',\n",
    " 'Bicycle_Thieves',\n",
    " 'Seven_Samurai',\n",
    " 'The_Treasure_of_the_Sierra_Madre_(film)',\n",
    " 'Up_(2009_film)',\n",
    " '12_Angry_Men_(1957_film)',\n",
    " 'The_400_Blows',\n",
    " 'Logan_(film)',\n",
    " 'All_Quiet_on_the_Western_Front_(1930_film)',\n",
    " 'Army_of_Shadows',\n",
    " 'Arrival_(film)',\n",
    " 'Baby_Driver',\n",
    " 'A_Streetcar_Named_Desire_(1951_film)',\n",
    " 'The_Night_of_the_Hunter_(film)',\n",
    " 'Star_Wars:_The_Force_Awakens',\n",
    " 'Manchester_by_the_Sea_(film)',\n",
    " 'Dr._Strangelove',\n",
    " 'Frankenstein_(1931_film)',\n",
    " 'Vertigo_(film)',\n",
    " 'The_Dark_Knight_(film)',\n",
    " 'Touch_of_Evil',\n",
    " 'The_Babadook',\n",
    " 'The_Conformist_(film)',\n",
    " 'Rebecca_(1940_film)',\n",
    " \"Rosemary%27s_Baby_(film)\",\n",
    " 'Finding_Nemo',\n",
    " 'Brooklyn_(film)',\n",
    " 'The_Wrestler_(2008_film)',\n",
    " 'The_39_Steps_(1935_film)',\n",
    " 'L.A._Confidential_(film)',\n",
    " 'Gone_with_the_Wind_(film)',\n",
    " 'The_Good,_the_Bad_and_the_Ugly',\n",
    " 'Skyfall',\n",
    " 'Rome,_Open_City',\n",
    " 'Tokyo_Story',\n",
    " 'Hell_or_High_Water_(film)',\n",
    " 'Pinocchio_(1940_film)',\n",
    " 'The_Jungle_Book_(2016_film)',\n",
    " 'La_La_Land_(film)',\n",
    " 'Star_Trek_(film)',\n",
    " 'High_Noon',\n",
    " 'Apocalypse_Now',\n",
    " 'On_the_Waterfront',\n",
    " 'The_Wages_of_Fear',\n",
    " 'The_Last_Picture_Show',\n",
    " 'Harry_Potter_and_the_Deathly_Hallows_–_Part_2',\n",
    " 'The_Grapes_of_Wrath_(film)',\n",
    " 'Roman_Holiday',\n",
    " 'Man_on_Wire',\n",
    " 'Jaws_(film)',\n",
    " 'Toy_Story',\n",
    " 'The_Godfather_Part_II',\n",
    " 'Battleship_Potemkin'\n",
    "]\n",
    "\n",
    "folder_name = 'bestofrt_posters'\n",
    "# Make directory if it doesn't already exist\n",
    "if not os.path.exists(folder_name):\n",
    "    os.makedirs(folder_name)\n",
    "    \n",
    "# List of dictionaries to build and convert to a DataFrame later\n",
    "df_list = []\n",
    "image_errors = {}\n",
    "for title in title_list:\n",
    "    try:\n",
    "        # This cell is slow so print ranking to gauge time remaining\n",
    "        ranking = title_list.index(title) + 1\n",
    "        print(ranking)\n",
    "        page = wptools.page(title, silent=True)\n",
    "        # Your code here (three lines)\n",
    "        images = page.get().data['image']\n",
    "        # First image is usually the poster\n",
    "        first_image_url = images[0]['url']\n",
    "        r = requests.get(first_image_url)\n",
    "        # Download movie poster image\n",
    "        i = Image.open(BytesIO(r.content))\n",
    "        image_file_format = first_image_url.split('.')[-1]\n",
    "        i.save(folder_name + \"/\" + str(ranking) + \"_\" + title + '.' + image_file_format)\n",
    "        # Append to list of dictionaries\n",
    "        df_list.append({'ranking': int(ranking),\n",
    "                        'title': title,\n",
    "                        'poster_url': first_image_url})\n",
    "    \n",
    "    # Not best practice to catch all exceptions but fine for this short script\n",
    "    except Exception as e:\n",
    "        print(str(ranking) + \"_\" + title + \": \" + str(e))\n",
    "        image_errors[str(ranking) + \"_\" + title] = images\n",
    "        \n"
   ]
  },
  {
   "cell_type": "markdown",
   "metadata": {},
   "source": [
    "One you have completed the above code requirements, read and run the three cells below and interpret their output."
   ]
  },
  {
   "cell_type": "code",
   "execution_count": 30,
   "metadata": {},
   "outputs": [
    {
     "name": "stdout",
     "output_type": "stream",
     "text": [
      "22_A_Hard_Day%27s_Night_(film)\n",
      "93_Harry_Potter_and_the_Deathly_Hallows_–_Part_2\n",
      "64_Dr._Strangelove\n",
      "72_Rosemary%27s_Baby_(film)\n",
      "53_12_Angry_Men_(1957_film)\n"
     ]
    }
   ],
   "source": [
    "for key in image_errors.keys():\n",
    "    print(key)"
   ]
  },
  {
   "cell_type": "code",
   "execution_count": 31,
   "metadata": {},
   "outputs": [],
   "source": [
    "# Inspect unidentifiable images and download them individually\n",
    "for rank_title, images in image_errors.items():\n",
    "    if rank_title == '22_A_Hard_Day%27s_Night_(film)':\n",
    "        url = 'https://upload.wikimedia.org/wikipedia/en/4/47/A_Hard_Days_night_movieposter.jpg'\n",
    "    if rank_title == '53_12_Angry_Men_(1957_film)':\n",
    "        url = 'https://upload.wikimedia.org/wikipedia/en/9/91/12_angry_men.jpg'\n",
    "    if rank_title == '72_Rosemary%27s_Baby_(film)':\n",
    "        url = 'https://upload.wikimedia.org/wikipedia/en/e/ef/Rosemarys_baby_poster.jpg'\n",
    "    if rank_title == '93_Harry_Potter_and_the_Deathly_Hallows_–_Part_2':\n",
    "        url = 'https://upload.wikimedia.org/wikipedia/en/d/df/Harry_Potter_and_the_Deathly_Hallows_%E2%80%93_Part_2.jpg'\n",
    "    title = rank_title[3:]\n",
    "    df_list.append({'ranking': int(title_list.index(title) + 1),\n",
    "                    'title': title,\n",
    "                    'poster_url': url})\n",
    "    r = requests.get(url)\n",
    "    # Download movie poster image\n",
    "    i = Image.open(BytesIO(r.content))\n",
    "    image_file_format = url.split('.')[-1]\n",
    "    i.save(folder_name + \"/\" + rank_title + '.' + image_file_format)"
   ]
  },
  {
   "cell_type": "code",
   "execution_count": 32,
   "metadata": {},
   "outputs": [
    {
     "data": {
      "text/html": [
       "<div>\n",
       "<table border=\"1\" class=\"dataframe\">\n",
       "  <thead>\n",
       "    <tr style=\"text-align: right;\">\n",
       "      <th></th>\n",
       "      <th>ranking</th>\n",
       "      <th>title</th>\n",
       "      <th>poster_url</th>\n",
       "    </tr>\n",
       "  </thead>\n",
       "  <tbody>\n",
       "    <tr>\n",
       "      <th>0</th>\n",
       "      <td>1</td>\n",
       "      <td>The_Wizard_of_Oz_(1939_film)</td>\n",
       "      <td>https://upload.wikimedia.org/wikipedia/commons...</td>\n",
       "    </tr>\n",
       "    <tr>\n",
       "      <th>1</th>\n",
       "      <td>2</td>\n",
       "      <td>Citizen_Kane</td>\n",
       "      <td>https://upload.wikimedia.org/wikipedia/en/c/ce...</td>\n",
       "    </tr>\n",
       "    <tr>\n",
       "      <th>2</th>\n",
       "      <td>3</td>\n",
       "      <td>The_Third_Man</td>\n",
       "      <td>https://upload.wikimedia.org/wikipedia/en/2/21...</td>\n",
       "    </tr>\n",
       "    <tr>\n",
       "      <th>3</th>\n",
       "      <td>4</td>\n",
       "      <td>Get_Out_(film)</td>\n",
       "      <td>https://upload.wikimedia.org/wikipedia/en/e/eb...</td>\n",
       "    </tr>\n",
       "    <tr>\n",
       "      <th>4</th>\n",
       "      <td>5</td>\n",
       "      <td>Mad_Max:_Fury_Road</td>\n",
       "      <td>https://upload.wikimedia.org/wikipedia/en/6/6e...</td>\n",
       "    </tr>\n",
       "    <tr>\n",
       "      <th>5</th>\n",
       "      <td>6</td>\n",
       "      <td>The_Cabinet_of_Dr._Caligari</td>\n",
       "      <td>https://upload.wikimedia.org/wikipedia/commons...</td>\n",
       "    </tr>\n",
       "    <tr>\n",
       "      <th>6</th>\n",
       "      <td>7</td>\n",
       "      <td>All_About_Eve</td>\n",
       "      <td>https://upload.wikimedia.org/wikipedia/en/2/22...</td>\n",
       "    </tr>\n",
       "    <tr>\n",
       "      <th>7</th>\n",
       "      <td>8</td>\n",
       "      <td>Inside_Out_(2015_film)</td>\n",
       "      <td>https://upload.wikimedia.org/wikipedia/en/0/0a...</td>\n",
       "    </tr>\n",
       "    <tr>\n",
       "      <th>8</th>\n",
       "      <td>9</td>\n",
       "      <td>The_Godfather</td>\n",
       "      <td>https://upload.wikimedia.org/wikipedia/en/1/1c...</td>\n",
       "    </tr>\n",
       "    <tr>\n",
       "      <th>9</th>\n",
       "      <td>10</td>\n",
       "      <td>Metropolis_(1927_film)</td>\n",
       "      <td>https://upload.wikimedia.org/wikipedia/en/0/06...</td>\n",
       "    </tr>\n",
       "    <tr>\n",
       "      <th>10</th>\n",
       "      <td>11</td>\n",
       "      <td>E.T._the_Extra-Terrestrial</td>\n",
       "      <td>https://upload.wikimedia.org/wikipedia/en/6/66...</td>\n",
       "    </tr>\n",
       "    <tr>\n",
       "      <th>11</th>\n",
       "      <td>12</td>\n",
       "      <td>Modern_Times_(film)</td>\n",
       "      <td>https://upload.wikimedia.org/wikipedia/commons...</td>\n",
       "    </tr>\n",
       "    <tr>\n",
       "      <th>12</th>\n",
       "      <td>13</td>\n",
       "      <td>It_Happened_One_Night</td>\n",
       "      <td>https://upload.wikimedia.org/wikipedia/en/1/11...</td>\n",
       "    </tr>\n",
       "    <tr>\n",
       "      <th>13</th>\n",
       "      <td>14</td>\n",
       "      <td>Singin'_in_the_Rain</td>\n",
       "      <td>https://upload.wikimedia.org/wikipedia/en/f/f9...</td>\n",
       "    </tr>\n",
       "    <tr>\n",
       "      <th>14</th>\n",
       "      <td>15</td>\n",
       "      <td>Boyhood_(film)</td>\n",
       "      <td>https://upload.wikimedia.org/wikipedia/en/b/bb...</td>\n",
       "    </tr>\n",
       "    <tr>\n",
       "      <th>15</th>\n",
       "      <td>16</td>\n",
       "      <td>Casablanca_(film)</td>\n",
       "      <td>https://upload.wikimedia.org/wikipedia/commons...</td>\n",
       "    </tr>\n",
       "    <tr>\n",
       "      <th>16</th>\n",
       "      <td>17</td>\n",
       "      <td>Moonlight_(2016_film)</td>\n",
       "      <td>https://upload.wikimedia.org/wikipedia/en/8/84...</td>\n",
       "    </tr>\n",
       "    <tr>\n",
       "      <th>17</th>\n",
       "      <td>18</td>\n",
       "      <td>Psycho_(1960_film)</td>\n",
       "      <td>https://upload.wikimedia.org/wikipedia/en/b/b9...</td>\n",
       "    </tr>\n",
       "    <tr>\n",
       "      <th>18</th>\n",
       "      <td>19</td>\n",
       "      <td>Laura_(1944_film)</td>\n",
       "      <td>https://upload.wikimedia.org/wikipedia/en/d/d6...</td>\n",
       "    </tr>\n",
       "    <tr>\n",
       "      <th>19</th>\n",
       "      <td>20</td>\n",
       "      <td>Nosferatu</td>\n",
       "      <td>https://upload.wikimedia.org/wikipedia/en/9/92...</td>\n",
       "    </tr>\n",
       "    <tr>\n",
       "      <th>20</th>\n",
       "      <td>21</td>\n",
       "      <td>Snow_White_and_the_Seven_Dwarfs_(1937_film)</td>\n",
       "      <td>https://upload.wikimedia.org/wikipedia/en/4/49...</td>\n",
       "    </tr>\n",
       "    <tr>\n",
       "      <th>21</th>\n",
       "      <td>22</td>\n",
       "      <td>A_Hard_Day%27s_Night_(film)</td>\n",
       "      <td>https://upload.wikimedia.org/wikipedia/en/4/47...</td>\n",
       "    </tr>\n",
       "    <tr>\n",
       "      <th>22</th>\n",
       "      <td>23</td>\n",
       "      <td>La_Grande_Illusion</td>\n",
       "      <td>https://upload.wikimedia.org/wikipedia/en/3/33...</td>\n",
       "    </tr>\n",
       "    <tr>\n",
       "      <th>23</th>\n",
       "      <td>24</td>\n",
       "      <td>North_by_Northwest</td>\n",
       "      <td>https://upload.wikimedia.org/wikipedia/commons...</td>\n",
       "    </tr>\n",
       "    <tr>\n",
       "      <th>24</th>\n",
       "      <td>25</td>\n",
       "      <td>The_Battle_of_Algiers</td>\n",
       "      <td>https://upload.wikimedia.org/wikipedia/en/a/aa...</td>\n",
       "    </tr>\n",
       "    <tr>\n",
       "      <th>25</th>\n",
       "      <td>26</td>\n",
       "      <td>Dunkirk_(2017_film)</td>\n",
       "      <td>https://upload.wikimedia.org/wikipedia/en/1/15...</td>\n",
       "    </tr>\n",
       "    <tr>\n",
       "      <th>26</th>\n",
       "      <td>27</td>\n",
       "      <td>The_Maltese_Falcon_(1941_film)</td>\n",
       "      <td>https://upload.wikimedia.org/wikipedia/en/9/99...</td>\n",
       "    </tr>\n",
       "    <tr>\n",
       "      <th>27</th>\n",
       "      <td>28</td>\n",
       "      <td>Repulsion_(film)</td>\n",
       "      <td>https://upload.wikimedia.org/wikipedia/en/8/89...</td>\n",
       "    </tr>\n",
       "    <tr>\n",
       "      <th>28</th>\n",
       "      <td>29</td>\n",
       "      <td>12_Years_a_Slave_(film)</td>\n",
       "      <td>https://upload.wikimedia.org/wikipedia/en/5/5c...</td>\n",
       "    </tr>\n",
       "    <tr>\n",
       "      <th>29</th>\n",
       "      <td>30</td>\n",
       "      <td>Gravity_(2013_film)</td>\n",
       "      <td>https://upload.wikimedia.org/wikipedia/en/f/f6...</td>\n",
       "    </tr>\n",
       "    <tr>\n",
       "      <th>...</th>\n",
       "      <td>...</td>\n",
       "      <td>...</td>\n",
       "      <td>...</td>\n",
       "    </tr>\n",
       "    <tr>\n",
       "      <th>70</th>\n",
       "      <td>71</td>\n",
       "      <td>Rebecca_(1940_film)</td>\n",
       "      <td>https://upload.wikimedia.org/wikipedia/en/1/16...</td>\n",
       "    </tr>\n",
       "    <tr>\n",
       "      <th>71</th>\n",
       "      <td>72</td>\n",
       "      <td>Rosemary%27s_Baby_(film)</td>\n",
       "      <td>https://upload.wikimedia.org/wikipedia/en/e/ef...</td>\n",
       "    </tr>\n",
       "    <tr>\n",
       "      <th>72</th>\n",
       "      <td>73</td>\n",
       "      <td>Finding_Nemo</td>\n",
       "      <td>https://upload.wikimedia.org/wikipedia/en/2/29...</td>\n",
       "    </tr>\n",
       "    <tr>\n",
       "      <th>73</th>\n",
       "      <td>74</td>\n",
       "      <td>Brooklyn_(film)</td>\n",
       "      <td>https://upload.wikimedia.org/wikipedia/en/5/5b...</td>\n",
       "    </tr>\n",
       "    <tr>\n",
       "      <th>74</th>\n",
       "      <td>75</td>\n",
       "      <td>The_Wrestler_(2008_film)</td>\n",
       "      <td>https://upload.wikimedia.org/wikipedia/en/3/3e...</td>\n",
       "    </tr>\n",
       "    <tr>\n",
       "      <th>75</th>\n",
       "      <td>76</td>\n",
       "      <td>The_39_Steps_(1935_film)</td>\n",
       "      <td>https://upload.wikimedia.org/wikipedia/en/9/95...</td>\n",
       "    </tr>\n",
       "    <tr>\n",
       "      <th>76</th>\n",
       "      <td>77</td>\n",
       "      <td>L.A._Confidential_(film)</td>\n",
       "      <td>https://upload.wikimedia.org/wikipedia/en/d/d8...</td>\n",
       "    </tr>\n",
       "    <tr>\n",
       "      <th>77</th>\n",
       "      <td>78</td>\n",
       "      <td>Gone_with_the_Wind_(film)</td>\n",
       "      <td>https://upload.wikimedia.org/wikipedia/commons...</td>\n",
       "    </tr>\n",
       "    <tr>\n",
       "      <th>78</th>\n",
       "      <td>79</td>\n",
       "      <td>The_Good,_the_Bad_and_the_Ugly</td>\n",
       "      <td>https://upload.wikimedia.org/wikipedia/en/4/45...</td>\n",
       "    </tr>\n",
       "    <tr>\n",
       "      <th>79</th>\n",
       "      <td>80</td>\n",
       "      <td>Skyfall</td>\n",
       "      <td>https://upload.wikimedia.org/wikipedia/en/a/a7...</td>\n",
       "    </tr>\n",
       "    <tr>\n",
       "      <th>80</th>\n",
       "      <td>81</td>\n",
       "      <td>Rome,_Open_City</td>\n",
       "      <td>https://upload.wikimedia.org/wikipedia/en/1/19...</td>\n",
       "    </tr>\n",
       "    <tr>\n",
       "      <th>81</th>\n",
       "      <td>82</td>\n",
       "      <td>Tokyo_Story</td>\n",
       "      <td>https://upload.wikimedia.org/wikipedia/en/5/5f...</td>\n",
       "    </tr>\n",
       "    <tr>\n",
       "      <th>82</th>\n",
       "      <td>83</td>\n",
       "      <td>Hell_or_High_Water_(film)</td>\n",
       "      <td>https://upload.wikimedia.org/wikipedia/en/8/8f...</td>\n",
       "    </tr>\n",
       "    <tr>\n",
       "      <th>83</th>\n",
       "      <td>84</td>\n",
       "      <td>Pinocchio_(1940_film)</td>\n",
       "      <td>https://upload.wikimedia.org/wikipedia/en/b/ba...</td>\n",
       "    </tr>\n",
       "    <tr>\n",
       "      <th>84</th>\n",
       "      <td>85</td>\n",
       "      <td>The_Jungle_Book_(2016_film)</td>\n",
       "      <td>https://upload.wikimedia.org/wikipedia/en/a/a4...</td>\n",
       "    </tr>\n",
       "    <tr>\n",
       "      <th>85</th>\n",
       "      <td>86</td>\n",
       "      <td>La_La_Land_(film)</td>\n",
       "      <td>https://upload.wikimedia.org/wikipedia/en/a/ab...</td>\n",
       "    </tr>\n",
       "    <tr>\n",
       "      <th>86</th>\n",
       "      <td>87</td>\n",
       "      <td>Star_Trek_(film)</td>\n",
       "      <td>https://upload.wikimedia.org/wikipedia/en/2/29...</td>\n",
       "    </tr>\n",
       "    <tr>\n",
       "      <th>87</th>\n",
       "      <td>88</td>\n",
       "      <td>High_Noon</td>\n",
       "      <td>https://upload.wikimedia.org/wikipedia/en/5/54...</td>\n",
       "    </tr>\n",
       "    <tr>\n",
       "      <th>88</th>\n",
       "      <td>89</td>\n",
       "      <td>Apocalypse_Now</td>\n",
       "      <td>https://upload.wikimedia.org/wikipedia/en/c/c2...</td>\n",
       "    </tr>\n",
       "    <tr>\n",
       "      <th>89</th>\n",
       "      <td>90</td>\n",
       "      <td>On_the_Waterfront</td>\n",
       "      <td>https://upload.wikimedia.org/wikipedia/en/9/93...</td>\n",
       "    </tr>\n",
       "    <tr>\n",
       "      <th>90</th>\n",
       "      <td>91</td>\n",
       "      <td>The_Wages_of_Fear</td>\n",
       "      <td>https://upload.wikimedia.org/wikipedia/en/f/f4...</td>\n",
       "    </tr>\n",
       "    <tr>\n",
       "      <th>91</th>\n",
       "      <td>92</td>\n",
       "      <td>The_Last_Picture_Show</td>\n",
       "      <td>https://upload.wikimedia.org/wikipedia/en/8/8f...</td>\n",
       "    </tr>\n",
       "    <tr>\n",
       "      <th>92</th>\n",
       "      <td>93</td>\n",
       "      <td>Harry_Potter_and_the_Deathly_Hallows_–_Part_2</td>\n",
       "      <td>https://upload.wikimedia.org/wikipedia/en/d/df...</td>\n",
       "    </tr>\n",
       "    <tr>\n",
       "      <th>93</th>\n",
       "      <td>94</td>\n",
       "      <td>The_Grapes_of_Wrath_(film)</td>\n",
       "      <td>https://upload.wikimedia.org/wikipedia/en/9/9f...</td>\n",
       "    </tr>\n",
       "    <tr>\n",
       "      <th>94</th>\n",
       "      <td>95</td>\n",
       "      <td>Roman_Holiday</td>\n",
       "      <td>https://upload.wikimedia.org/wikipedia/en/b/b7...</td>\n",
       "    </tr>\n",
       "    <tr>\n",
       "      <th>95</th>\n",
       "      <td>96</td>\n",
       "      <td>Man_on_Wire</td>\n",
       "      <td>https://upload.wikimedia.org/wikipedia/en/5/54...</td>\n",
       "    </tr>\n",
       "    <tr>\n",
       "      <th>96</th>\n",
       "      <td>97</td>\n",
       "      <td>Jaws_(film)</td>\n",
       "      <td>https://upload.wikimedia.org/wikipedia/en/e/eb...</td>\n",
       "    </tr>\n",
       "    <tr>\n",
       "      <th>97</th>\n",
       "      <td>98</td>\n",
       "      <td>Toy_Story</td>\n",
       "      <td>https://upload.wikimedia.org/wikipedia/en/1/13...</td>\n",
       "    </tr>\n",
       "    <tr>\n",
       "      <th>98</th>\n",
       "      <td>99</td>\n",
       "      <td>The_Godfather_Part_II</td>\n",
       "      <td>https://upload.wikimedia.org/wikipedia/en/0/03...</td>\n",
       "    </tr>\n",
       "    <tr>\n",
       "      <th>99</th>\n",
       "      <td>100</td>\n",
       "      <td>Battleship_Potemkin</td>\n",
       "      <td>https://upload.wikimedia.org/wikipedia/commons...</td>\n",
       "    </tr>\n",
       "  </tbody>\n",
       "</table>\n",
       "<p>100 rows × 3 columns</p>\n",
       "</div>"
      ],
      "text/plain": [
       "    ranking                                          title  \\\n",
       "0         1                   The_Wizard_of_Oz_(1939_film)   \n",
       "1         2                                   Citizen_Kane   \n",
       "2         3                                  The_Third_Man   \n",
       "3         4                                 Get_Out_(film)   \n",
       "4         5                             Mad_Max:_Fury_Road   \n",
       "5         6                    The_Cabinet_of_Dr._Caligari   \n",
       "6         7                                  All_About_Eve   \n",
       "7         8                         Inside_Out_(2015_film)   \n",
       "8         9                                  The_Godfather   \n",
       "9        10                         Metropolis_(1927_film)   \n",
       "10       11                     E.T._the_Extra-Terrestrial   \n",
       "11       12                            Modern_Times_(film)   \n",
       "12       13                          It_Happened_One_Night   \n",
       "13       14                            Singin'_in_the_Rain   \n",
       "14       15                                 Boyhood_(film)   \n",
       "15       16                              Casablanca_(film)   \n",
       "16       17                          Moonlight_(2016_film)   \n",
       "17       18                             Psycho_(1960_film)   \n",
       "18       19                              Laura_(1944_film)   \n",
       "19       20                                      Nosferatu   \n",
       "20       21    Snow_White_and_the_Seven_Dwarfs_(1937_film)   \n",
       "21       22                    A_Hard_Day%27s_Night_(film)   \n",
       "22       23                             La_Grande_Illusion   \n",
       "23       24                             North_by_Northwest   \n",
       "24       25                          The_Battle_of_Algiers   \n",
       "25       26                            Dunkirk_(2017_film)   \n",
       "26       27                 The_Maltese_Falcon_(1941_film)   \n",
       "27       28                               Repulsion_(film)   \n",
       "28       29                        12_Years_a_Slave_(film)   \n",
       "29       30                            Gravity_(2013_film)   \n",
       "..      ...                                            ...   \n",
       "70       71                            Rebecca_(1940_film)   \n",
       "71       72                       Rosemary%27s_Baby_(film)   \n",
       "72       73                                   Finding_Nemo   \n",
       "73       74                                Brooklyn_(film)   \n",
       "74       75                       The_Wrestler_(2008_film)   \n",
       "75       76                       The_39_Steps_(1935_film)   \n",
       "76       77                       L.A._Confidential_(film)   \n",
       "77       78                      Gone_with_the_Wind_(film)   \n",
       "78       79                 The_Good,_the_Bad_and_the_Ugly   \n",
       "79       80                                        Skyfall   \n",
       "80       81                                Rome,_Open_City   \n",
       "81       82                                    Tokyo_Story   \n",
       "82       83                      Hell_or_High_Water_(film)   \n",
       "83       84                          Pinocchio_(1940_film)   \n",
       "84       85                    The_Jungle_Book_(2016_film)   \n",
       "85       86                              La_La_Land_(film)   \n",
       "86       87                               Star_Trek_(film)   \n",
       "87       88                                      High_Noon   \n",
       "88       89                                 Apocalypse_Now   \n",
       "89       90                              On_the_Waterfront   \n",
       "90       91                              The_Wages_of_Fear   \n",
       "91       92                          The_Last_Picture_Show   \n",
       "92       93  Harry_Potter_and_the_Deathly_Hallows_–_Part_2   \n",
       "93       94                     The_Grapes_of_Wrath_(film)   \n",
       "94       95                                  Roman_Holiday   \n",
       "95       96                                    Man_on_Wire   \n",
       "96       97                                    Jaws_(film)   \n",
       "97       98                                      Toy_Story   \n",
       "98       99                          The_Godfather_Part_II   \n",
       "99      100                            Battleship_Potemkin   \n",
       "\n",
       "                                           poster_url  \n",
       "0   https://upload.wikimedia.org/wikipedia/commons...  \n",
       "1   https://upload.wikimedia.org/wikipedia/en/c/ce...  \n",
       "2   https://upload.wikimedia.org/wikipedia/en/2/21...  \n",
       "3   https://upload.wikimedia.org/wikipedia/en/e/eb...  \n",
       "4   https://upload.wikimedia.org/wikipedia/en/6/6e...  \n",
       "5   https://upload.wikimedia.org/wikipedia/commons...  \n",
       "6   https://upload.wikimedia.org/wikipedia/en/2/22...  \n",
       "7   https://upload.wikimedia.org/wikipedia/en/0/0a...  \n",
       "8   https://upload.wikimedia.org/wikipedia/en/1/1c...  \n",
       "9   https://upload.wikimedia.org/wikipedia/en/0/06...  \n",
       "10  https://upload.wikimedia.org/wikipedia/en/6/66...  \n",
       "11  https://upload.wikimedia.org/wikipedia/commons...  \n",
       "12  https://upload.wikimedia.org/wikipedia/en/1/11...  \n",
       "13  https://upload.wikimedia.org/wikipedia/en/f/f9...  \n",
       "14  https://upload.wikimedia.org/wikipedia/en/b/bb...  \n",
       "15  https://upload.wikimedia.org/wikipedia/commons...  \n",
       "16  https://upload.wikimedia.org/wikipedia/en/8/84...  \n",
       "17  https://upload.wikimedia.org/wikipedia/en/b/b9...  \n",
       "18  https://upload.wikimedia.org/wikipedia/en/d/d6...  \n",
       "19  https://upload.wikimedia.org/wikipedia/en/9/92...  \n",
       "20  https://upload.wikimedia.org/wikipedia/en/4/49...  \n",
       "21  https://upload.wikimedia.org/wikipedia/en/4/47...  \n",
       "22  https://upload.wikimedia.org/wikipedia/en/3/33...  \n",
       "23  https://upload.wikimedia.org/wikipedia/commons...  \n",
       "24  https://upload.wikimedia.org/wikipedia/en/a/aa...  \n",
       "25  https://upload.wikimedia.org/wikipedia/en/1/15...  \n",
       "26  https://upload.wikimedia.org/wikipedia/en/9/99...  \n",
       "27  https://upload.wikimedia.org/wikipedia/en/8/89...  \n",
       "28  https://upload.wikimedia.org/wikipedia/en/5/5c...  \n",
       "29  https://upload.wikimedia.org/wikipedia/en/f/f6...  \n",
       "..                                                ...  \n",
       "70  https://upload.wikimedia.org/wikipedia/en/1/16...  \n",
       "71  https://upload.wikimedia.org/wikipedia/en/e/ef...  \n",
       "72  https://upload.wikimedia.org/wikipedia/en/2/29...  \n",
       "73  https://upload.wikimedia.org/wikipedia/en/5/5b...  \n",
       "74  https://upload.wikimedia.org/wikipedia/en/3/3e...  \n",
       "75  https://upload.wikimedia.org/wikipedia/en/9/95...  \n",
       "76  https://upload.wikimedia.org/wikipedia/en/d/d8...  \n",
       "77  https://upload.wikimedia.org/wikipedia/commons...  \n",
       "78  https://upload.wikimedia.org/wikipedia/en/4/45...  \n",
       "79  https://upload.wikimedia.org/wikipedia/en/a/a7...  \n",
       "80  https://upload.wikimedia.org/wikipedia/en/1/19...  \n",
       "81  https://upload.wikimedia.org/wikipedia/en/5/5f...  \n",
       "82  https://upload.wikimedia.org/wikipedia/en/8/8f...  \n",
       "83  https://upload.wikimedia.org/wikipedia/en/b/ba...  \n",
       "84  https://upload.wikimedia.org/wikipedia/en/a/a4...  \n",
       "85  https://upload.wikimedia.org/wikipedia/en/a/ab...  \n",
       "86  https://upload.wikimedia.org/wikipedia/en/2/29...  \n",
       "87  https://upload.wikimedia.org/wikipedia/en/5/54...  \n",
       "88  https://upload.wikimedia.org/wikipedia/en/c/c2...  \n",
       "89  https://upload.wikimedia.org/wikipedia/en/9/93...  \n",
       "90  https://upload.wikimedia.org/wikipedia/en/f/f4...  \n",
       "91  https://upload.wikimedia.org/wikipedia/en/8/8f...  \n",
       "92  https://upload.wikimedia.org/wikipedia/en/d/df...  \n",
       "93  https://upload.wikimedia.org/wikipedia/en/9/9f...  \n",
       "94  https://upload.wikimedia.org/wikipedia/en/b/b7...  \n",
       "95  https://upload.wikimedia.org/wikipedia/en/5/54...  \n",
       "96  https://upload.wikimedia.org/wikipedia/en/e/eb...  \n",
       "97  https://upload.wikimedia.org/wikipedia/en/1/13...  \n",
       "98  https://upload.wikimedia.org/wikipedia/en/0/03...  \n",
       "99  https://upload.wikimedia.org/wikipedia/commons...  \n",
       "\n",
       "[100 rows x 3 columns]"
      ]
     },
     "execution_count": 32,
     "metadata": {},
     "output_type": "execute_result"
    }
   ],
   "source": [
    "# Create DataFrame from list of dictionaries\n",
    "df = pd.DataFrame(df_list, columns = ['ranking', 'title', 'poster_url'])\n",
    "df = df.sort_values('ranking').reset_index(drop=True)\n",
    "df"
   ]
  },
  {
   "cell_type": "markdown",
   "metadata": {},
   "source": [
    "## Storing data"
   ]
  },
  {
   "cell_type": "markdown",
   "metadata": {},
   "source": [
    "Saving to a csv file is best for a simple datatframe like this"
   ]
  },
  {
   "cell_type": "code",
   "execution_count": 33,
   "metadata": {},
   "outputs": [],
   "source": [
    "# We'll take some data that's already been cleaned since our data here hasn't been cleaned yet\n",
    "df = pd.read_csv('gathered_assessed_cleaned.csv')\n",
    "\n",
    "# Save the master DataFrame to a file called 'bestofrt_master.csv'\n",
    "df.to_csv('bestofrt_master.csv', index=False)"
   ]
  },
  {
   "cell_type": "markdown",
   "metadata": {},
   "source": [
    "## Relational databases in Python\n",
    "\n",
    "We're going to:\n",
    "\n",
    "1. Connect to a database. We'll connect to a SQLite database using SQLAlchemy, a database toolkit for Python.\n",
    "2. Store the data in the cleaned master dataset in that database. We'll do this using pandas' to_csv DataFrame method.\n",
    "3. Then read the brand new data in that database back into a pandas DataFrame. We'll do this using pandas' read_csv function."
   ]
  },
  {
   "cell_type": "code",
   "execution_count": 34,
   "metadata": {},
   "outputs": [
    {
     "data": {
      "text/html": [
       "<div>\n",
       "<table border=\"1\" class=\"dataframe\">\n",
       "  <thead>\n",
       "    <tr style=\"text-align: right;\">\n",
       "      <th></th>\n",
       "      <th>ranking</th>\n",
       "      <th>title</th>\n",
       "      <th>critic_score</th>\n",
       "      <th>number_of_critic_ratings</th>\n",
       "      <th>audience_score</th>\n",
       "      <th>number_of_audience_ratings</th>\n",
       "      <th>review_url</th>\n",
       "      <th>review_text</th>\n",
       "      <th>poster_url</th>\n",
       "    </tr>\n",
       "  </thead>\n",
       "  <tbody>\n",
       "    <tr>\n",
       "      <th>0</th>\n",
       "      <td>1</td>\n",
       "      <td>The Wizard of Oz (1939)</td>\n",
       "      <td>99</td>\n",
       "      <td>110</td>\n",
       "      <td>89</td>\n",
       "      <td>874425</td>\n",
       "      <td>http://www.rogerebert.com/reviews/great-movie-...</td>\n",
       "      <td>As a child I simply did not notice whether a m...</td>\n",
       "      <td>https://upload.wikimedia.org/wikipedia/commons...</td>\n",
       "    </tr>\n",
       "    <tr>\n",
       "      <th>1</th>\n",
       "      <td>2</td>\n",
       "      <td>Citizen Kane (1941)</td>\n",
       "      <td>100</td>\n",
       "      <td>75</td>\n",
       "      <td>90</td>\n",
       "      <td>157274</td>\n",
       "      <td>http://www.rogerebert.com/reviews/great-movie-...</td>\n",
       "      <td>“I don't think any word can explain a man's li...</td>\n",
       "      <td>https://upload.wikimedia.org/wikipedia/en/c/ce...</td>\n",
       "    </tr>\n",
       "    <tr>\n",
       "      <th>2</th>\n",
       "      <td>3</td>\n",
       "      <td>The Third Man (1949)</td>\n",
       "      <td>100</td>\n",
       "      <td>77</td>\n",
       "      <td>93</td>\n",
       "      <td>53081</td>\n",
       "      <td>http://www.rogerebert.com/reviews/great-movie-...</td>\n",
       "      <td>Has there ever been a film where the music mor...</td>\n",
       "      <td>https://upload.wikimedia.org/wikipedia/en/2/21...</td>\n",
       "    </tr>\n",
       "    <tr>\n",
       "      <th>3</th>\n",
       "      <td>4</td>\n",
       "      <td>Get Out (2017)</td>\n",
       "      <td>99</td>\n",
       "      <td>282</td>\n",
       "      <td>87</td>\n",
       "      <td>63837</td>\n",
       "      <td>http://www.rogerebert.com/reviews/get-out-2017</td>\n",
       "      <td>With the ambitious and challenging “Get Out,” ...</td>\n",
       "      <td>https://upload.wikimedia.org/wikipedia/en/e/eb...</td>\n",
       "    </tr>\n",
       "    <tr>\n",
       "      <th>4</th>\n",
       "      <td>5</td>\n",
       "      <td>Mad Max: Fury Road (2015)</td>\n",
       "      <td>97</td>\n",
       "      <td>370</td>\n",
       "      <td>86</td>\n",
       "      <td>123937</td>\n",
       "      <td>http://www.rogerebert.com/reviews/mad-max-fury...</td>\n",
       "      <td>George Miller’s “Mad Max” films didn’t just ma...</td>\n",
       "      <td>https://upload.wikimedia.org/wikipedia/en/6/6e...</td>\n",
       "    </tr>\n",
       "  </tbody>\n",
       "</table>\n",
       "</div>"
      ],
      "text/plain": [
       "   ranking                      title  critic_score  number_of_critic_ratings  \\\n",
       "0        1    The Wizard of Oz (1939)            99                       110   \n",
       "1        2        Citizen Kane (1941)           100                        75   \n",
       "2        3       The Third Man (1949)           100                        77   \n",
       "3        4             Get Out (2017)            99                       282   \n",
       "4        5  Mad Max: Fury Road (2015)            97                       370   \n",
       "\n",
       "   audience_score  number_of_audience_ratings  \\\n",
       "0              89                      874425   \n",
       "1              90                      157274   \n",
       "2              93                       53081   \n",
       "3              87                       63837   \n",
       "4              86                      123937   \n",
       "\n",
       "                                          review_url  \\\n",
       "0  http://www.rogerebert.com/reviews/great-movie-...   \n",
       "1  http://www.rogerebert.com/reviews/great-movie-...   \n",
       "2  http://www.rogerebert.com/reviews/great-movie-...   \n",
       "3     http://www.rogerebert.com/reviews/get-out-2017   \n",
       "4  http://www.rogerebert.com/reviews/mad-max-fury...   \n",
       "\n",
       "                                         review_text  \\\n",
       "0  As a child I simply did not notice whether a m...   \n",
       "1  “I don't think any word can explain a man's li...   \n",
       "2  Has there ever been a film where the music mor...   \n",
       "3  With the ambitious and challenging “Get Out,” ...   \n",
       "4  George Miller’s “Mad Max” films didn’t just ma...   \n",
       "\n",
       "                                          poster_url  \n",
       "0  https://upload.wikimedia.org/wikipedia/commons...  \n",
       "1  https://upload.wikimedia.org/wikipedia/en/c/ce...  \n",
       "2  https://upload.wikimedia.org/wikipedia/en/2/21...  \n",
       "3  https://upload.wikimedia.org/wikipedia/en/e/eb...  \n",
       "4  https://upload.wikimedia.org/wikipedia/en/6/6e...  "
      ]
     },
     "execution_count": 34,
     "metadata": {},
     "output_type": "execute_result"
    }
   ],
   "source": [
    "df = pd.read_csv('bestofrt_master.csv')\n",
    "df.head()"
   ]
  },
  {
   "cell_type": "markdown",
   "metadata": {},
   "source": [
    "### 1. Connect to a database"
   ]
  },
  {
   "cell_type": "code",
   "execution_count": 35,
   "metadata": {},
   "outputs": [
    {
     "ename": "ImportError",
     "evalue": "No module named 'sqlalchemy'",
     "output_type": "error",
     "traceback": [
      "\u001b[0;31m---------------------------------------------------------------------------\u001b[0m",
      "\u001b[0;31mImportError\u001b[0m                               Traceback (most recent call last)",
      "\u001b[0;32m<ipython-input-35-22d6dad54e27>\u001b[0m in \u001b[0;36m<module>\u001b[0;34m()\u001b[0m\n\u001b[0;32m----> 1\u001b[0;31m \u001b[0;32mfrom\u001b[0m \u001b[0msqlalchemy\u001b[0m \u001b[0;32mimport\u001b[0m \u001b[0mcreate_engine\u001b[0m\u001b[0;34m\u001b[0m\u001b[0m\n\u001b[0m\u001b[1;32m      2\u001b[0m \u001b[0;34m\u001b[0m\u001b[0m\n\u001b[1;32m      3\u001b[0m \u001b[0;31m# Create SQLAlchemy Engine and empty bestofrt database\u001b[0m\u001b[0;34m\u001b[0m\u001b[0;34m\u001b[0m\u001b[0m\n\u001b[1;32m      4\u001b[0m \u001b[0;31m# bestofrt.db will not show up in the Jupyter Notebook dashboard yet\u001b[0m\u001b[0;34m\u001b[0m\u001b[0;34m\u001b[0m\u001b[0m\n\u001b[1;32m      5\u001b[0m \u001b[0mengine\u001b[0m \u001b[0;34m=\u001b[0m \u001b[0mcreate_engine\u001b[0m\u001b[0;34m(\u001b[0m\u001b[0;34m'sqlite:///bestofrt.db'\u001b[0m\u001b[0;34m)\u001b[0m\u001b[0;34m\u001b[0m\u001b[0m\n",
      "\u001b[0;31mImportError\u001b[0m: No module named 'sqlalchemy'"
     ]
    }
   ],
   "source": [
    "from sqlalchemy import create_engine\n",
    "\n",
    "# Create SQLAlchemy Engine and empty bestofrt database\n",
    "# bestofrt.db will not show up in the Jupyter Notebook dashboard yet\n",
    "engine = create_engine('sqlite:///bestofrt.db')"
   ]
  },
  {
   "cell_type": "markdown",
   "metadata": {},
   "source": [
    "### 2. Store pandas DataFrame in database\n",
    "Store the data in the cleaned master dataset (bestofrt_master) in that database."
   ]
  },
  {
   "cell_type": "code",
   "execution_count": null,
   "metadata": {},
   "outputs": [],
   "source": [
    "# Store cleaned master DataFrame ('df') in a table called master in bestofrt.db\n",
    "# bestofrt.db will be visible now in the Jupyter Notebook dashboard\n",
    "df.to_sql('master', engine, index=False)"
   ]
  },
  {
   "cell_type": "markdown",
   "metadata": {},
   "source": [
    "### 3. Read database data into a pandas DataFrame\n",
    "Read the brand new data in that database back into a pandas DataFrame."
   ]
  },
  {
   "cell_type": "code",
   "execution_count": null,
   "metadata": {},
   "outputs": [],
   "source": [
    "df_gather = pd.read_sql('SELECT * FROM master', engine)\n",
    "df_gather.head(3)"
   ]
  }
 ],
 "metadata": {
  "kernelspec": {
   "display_name": "Python (dataWrangling)",
   "language": "python",
   "name": "datawrangling"
  },
  "language_info": {
   "codemirror_mode": {
    "name": "ipython",
    "version": 3
   },
   "file_extension": ".py",
   "mimetype": "text/x-python",
   "name": "python",
   "nbconvert_exporter": "python",
   "pygments_lexer": "ipython3",
   "version": "3.4.5"
  }
 },
 "nbformat": 4,
 "nbformat_minor": 2
}
