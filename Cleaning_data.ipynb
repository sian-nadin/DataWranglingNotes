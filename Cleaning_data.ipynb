{
 "cells": [
  {
   "cell_type": "markdown",
   "metadata": {},
   "source": [
    "# Data wrangling: Cleaning data\n",
    "Notes on cleaning data."
   ]
  },
  {
   "cell_type": "code",
   "execution_count": 1,
   "metadata": {},
   "outputs": [],
   "source": [
    "import pandas as pd\n",
    "import numpy as np"
   ]
  },
  {
   "cell_type": "markdown",
   "metadata": {},
   "source": [
    "Clean the data on patients taking a new drug - Auralin."
   ]
  },
  {
   "cell_type": "code",
   "execution_count": 2,
   "metadata": {},
   "outputs": [],
   "source": [
    "patients = pd.read_csv('patients.csv')\n",
    "treatments = pd.read_csv('treatments.csv')\n",
    "adverse_reactions = pd.read_csv('adverse_reactions.csv')"
   ]
  },
  {
   "cell_type": "markdown",
   "metadata": {},
   "source": [
    "**A quick recap of issues found during the assement stage:**"
   ]
  },
  {
   "cell_type": "markdown",
   "metadata": {},
   "source": [
    "#### Quality\n",
    "##### `patients` table\n",
    "- Zip code is a float not a string\n",
    "- Zip code has four digits sometimes\n",
    "- Tim Neudorf height is 27 in instead of 72 in\n",
    "- Full state names sometimes, abbreviations other times\n",
    "- Dsvid Gustafsson\n",
    "- Missing demographic information (address - contact columns) ***(can't clean yet)***\n",
    "- Erroneous datatypes (assigned sex, state, zip_code, and birthdate columns)\n",
    "- Multiple phone number formats\n",
    "- Default John Doe data\n",
    "- Multiple records for Jakobsen, Gersten, Taylor\n",
    "- kgs instead of lbs for Zaitseva weight\n",
    "\n",
    "##### `treatments` table\n",
    "- Missing HbA1c changes\n",
    "- The letter 'u' in starting and ending doses for Auralin and Novodra\n",
    "- Lowercase given names and surnames\n",
    "- Missing records (280 instead of 350)\n",
    "- Erroneous datatypes (auralin and novodra columns)\n",
    "- Inaccurate HbA1c changes (leading 4s mistaken as 9s)\n",
    "- Nulls represented as dashes (-) in auralin and novodra columns\n",
    "\n",
    "##### `adverse_reactions` table\n",
    "- Lowercase given names and surnames"
   ]
  },
  {
   "cell_type": "markdown",
   "metadata": {},
   "source": [
    "#### Tidiness\n",
    "- Contact column in `patients` table should be split into phone number and email\n",
    "- Three variables in two columns in `treatments` table (treatment, start dose and end dose)\n",
    "- Adverse reaction should be part of the `treatments` table\n",
    "- Given name and surname columns in `patients` table duplicated in `treatments` and `adverse_reactions` tables"
   ]
  },
  {
   "cell_type": "markdown",
   "metadata": {},
   "source": [
    "### Cleaning the data"
   ]
  },
  {
   "cell_type": "markdown",
   "metadata": {},
   "source": [
    "Make a copy of the data sets so that we still have the original copy in case we need it."
   ]
  },
  {
   "cell_type": "code",
   "execution_count": 8,
   "metadata": {},
   "outputs": [],
   "source": [
    "patients_clean = patients.copy()\n",
    "treatments_clean = treatments.copy()\n",
    "adverse_reactions_clean = adverse_reactions.copy()"
   ]
  },
  {
   "cell_type": "markdown",
   "metadata": {},
   "source": [
    "### Missing Data"
   ]
  },
  {
   "cell_type": "code",
   "execution_count": null,
   "metadata": {},
   "outputs": [],
   "source": []
  }
 ],
 "metadata": {
  "kernelspec": {
   "display_name": "Python (py3)",
   "language": "python",
   "name": "py3"
  },
  "language_info": {
   "codemirror_mode": {
    "name": "ipython",
    "version": 3
   },
   "file_extension": ".py",
   "mimetype": "text/x-python",
   "name": "python",
   "nbconvert_exporter": "python",
   "pygments_lexer": "ipython3",
   "version": "3.6.4"
  }
 },
 "nbformat": 4,
 "nbformat_minor": 2
}
